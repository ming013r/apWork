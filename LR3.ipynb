{
 "cells": [
  {
   "cell_type": "code",
   "execution_count": 5,
   "metadata": {},
   "outputs": [],
   "source": [
    "import numpy as np\n",
    "import math\n",
    "import matplotlib.pyplot as plt  \n",
    "from sklearn.metrics import mean_squared_error, mean_absolute_error\n",
    "import pandas as pd\n",
    "\n",
    "\n",
    "import sys\n",
    "import xlwt\n",
    "from sklearn.preprocessing import MinMaxScaler\n",
    "from sklearn.linear_model import LinearRegression\n",
    "import datetime,pickle,os,glob\n",
    "\n",
    "from tqdm import tqdm_notebook as tqdm\n",
    "\n",
    "def transfromData(trainRaw, testRaw,windosSize):  ##Train ratial, train, test\n",
    "    sc = MinMaxScaler(feature_range = (0, 1))\n",
    "    #npRaw = np.array(rawData)\n",
    "    #scaledData = sc.fit_transform(npRaw.reshape(-1,1))  \n",
    "    #trainData = np.array(scaledData[:trainCount]).reshape(-1,1)##train \n",
    "    #testData = np.array(scaledData[-testCount:]).reshape(-1,1)\n",
    "    \n",
    "    npTrain = sc.fit_transform(np.array(trainRaw).reshape(-1,1))\n",
    "    npTest = sc.fit_transform(np.array(testRaw).reshape(-1,1))\n",
    "    \n",
    "\n",
    "    X_train, y_train = splitXy(npTrain,windosSize)\n",
    "    X_test, y_test = splitXy(npTest,windosSize)\n",
    "    return sc, X_train, y_train, X_test, y_test\n",
    "\n",
    "def splitXy(data,windosSize):\n",
    "    windows = []\n",
    "    for i in range(windosSize, data.shape[0]):\n",
    "        windows.append(data[i-windosSize:i, 0])\n",
    "    np.random.shuffle(windows)\n",
    "    X = []\n",
    "    y = []\n",
    "    for i in range(len(windows)):\n",
    "        X.append(windows[i][:6])\n",
    "        y.append(windows[i][-(windosSize-6):])\n",
    "    X, y = np.array(X), np.array(y)\n",
    "    #X = np.reshape(X, (X.shape[0], X.shape[1], 1))\n",
    "    return X,y\n",
    "\n",
    "\n",
    "\n",
    "\n",
    "def buildModel():\n",
    "    dnn_1_input = Input(shape=(6,),name='dnn_1_input')\n",
    "    dnn_1 = Dense(128,activation=\"tanh\", name='dnn_1')(dnn_1_input)\n",
    "    dnn_2 = Dense(64,activation=\"tanh\", name='dnn_2')(dnn_1)\n",
    "    dnn_3 = Dense(32,activation=\"tanh\", name='dnn_3')(dnn_2)\n",
    "    dnn_4 = Dense(1, activation='tanh', name='dnn_4')(dnn_3)\n",
    "\n",
    "    model = Model(dnn_1_input,dnn_4)\n",
    "    model.summary()\n",
    "    model.compile(loss='mse',\n",
    "                  optimizer='adam')\n",
    "    return model\n",
    "def getStationList():\n",
    "    with open('pickles/stationList.pickle', 'rb') as handle:\n",
    "        stationList = pickle.load(handle)\n",
    "    os.chdir('excelFiles/LSTM')\n",
    "    replaceDict = ['.xls','LSTMresult']\n",
    "    for direct in glob.glob(\"*.xls\"):\n",
    "        fileName = direct                                               \n",
    "        for w in replaceDict:\n",
    "            fileName = fileName.replace(w,'')\n",
    "        \n",
    "        if fileName in stationList:\n",
    "            stationList.remove(fileName)\n",
    "            print(fileName)\n",
    "    os.chdir('../..')\n",
    "    return stationList\n",
    "\n",
    "def writeExcelHead(sheet1,epochs,station):\n",
    "    sheet1.write(0,1,station)\n",
    "    raw = 1\n",
    "    for e in range(epochs):\n",
    "        sheet1.write(raw,0,e+1)\n",
    "        raw+=1\n",
    "def fetchData(station,windosSize):\n",
    "\n",
    "    with open('pickles/'+station+'2017trainRaw.pickle', 'rb') as handle:\n",
    "        trainRawData = pickle.load(handle)\n",
    "    with open('pickles/'+station+'2017testRaw.pickle', 'rb') as handle:\n",
    "        testRawData = pickle.load(handle)\n",
    "        \n",
    "    sc, X_train, y_train, X_test, y_test = transfromData(trainRawData,testRawData,windosSize)\n",
    "    return sc, X_train, y_train, X_test, y_test\n",
    "def trainLR(sc, X_train, y_train, X_test, y_test):\n",
    "    \n",
    "    reg = LinearRegression().fit(X_train, y_train)\n",
    "    predicted_LR = sc.inverse_transform(reg.predict(X_test))\n",
    "    ori_y_test = sc.inverse_transform(y_test)\n",
    "    \n",
    "    print(ori_y_test.shape)\n",
    "    MSEs = []\n",
    "    MAEs = []\n",
    "    for idx in range(24):\n",
    "        mse = mean_squared_error(predicted_LR[:,idx], ori_y_test[:,idx])\n",
    "        mae = mean_absolute_error(predicted_LR[:,idx], ori_y_test[:,idx])\n",
    "        MSEs.append(mse)\n",
    "        MAEs.append(mae)\n",
    "\n",
    "    return MSEs, MAEs"
   ]
  },
  {
   "cell_type": "code",
   "execution_count": 4,
   "metadata": {},
   "outputs": [
    {
     "data": {
      "application/vnd.jupyter.widget-view+json": {
       "model_id": "ee403cbb5e95495a9491bcb6397f1aec",
       "version_major": 2,
       "version_minor": 0
      },
      "text/plain": [
       "HBox(children=(IntProgress(value=0, max=76), HTML(value='')))"
      ]
     },
     "metadata": {},
     "output_type": "display_data"
    },
    {
     "name": "stdout",
     "output_type": "stream",
     "text": [
      "(5639, 19)\n",
      "\n"
     ]
    },
    {
     "ename": "IndexError",
     "evalue": "index 19 is out of bounds for axis 1 with size 19",
     "output_type": "error",
     "traceback": [
      "\u001b[1;31m---------------------------------------------------------------------------\u001b[0m",
      "\u001b[1;31mIndexError\u001b[0m                                Traceback (most recent call last)",
      "\u001b[1;32m<ipython-input-4-03d4b428193e>\u001b[0m in \u001b[0;36m<module>\u001b[1;34m\u001b[0m\n\u001b[0;32m      8\u001b[0m \u001b[1;33m\u001b[0m\u001b[0m\n\u001b[0;32m      9\u001b[0m     \u001b[0msc\u001b[0m\u001b[1;33m,\u001b[0m \u001b[0mX_train\u001b[0m\u001b[1;33m,\u001b[0m \u001b[0my_train\u001b[0m\u001b[1;33m,\u001b[0m \u001b[0mX_test\u001b[0m\u001b[1;33m,\u001b[0m \u001b[0my_test\u001b[0m \u001b[1;33m=\u001b[0m \u001b[0mfetchData\u001b[0m\u001b[1;33m(\u001b[0m\u001b[0mstation\u001b[0m\u001b[1;33m,\u001b[0m\u001b[1;36m25\u001b[0m\u001b[1;33m)\u001b[0m\u001b[1;33m\u001b[0m\u001b[0m\n\u001b[1;32m---> 10\u001b[1;33m     \u001b[0mmseList\u001b[0m\u001b[1;33m,\u001b[0m \u001b[0mmaeList\u001b[0m \u001b[1;33m=\u001b[0m \u001b[0mtrainLR\u001b[0m\u001b[1;33m(\u001b[0m\u001b[0msc\u001b[0m\u001b[1;33m,\u001b[0m \u001b[0mX_train\u001b[0m\u001b[1;33m,\u001b[0m \u001b[0my_train\u001b[0m\u001b[1;33m,\u001b[0m \u001b[0mX_test\u001b[0m\u001b[1;33m,\u001b[0m \u001b[0my_test\u001b[0m\u001b[1;33m)\u001b[0m\u001b[1;33m\u001b[0m\u001b[0m\n\u001b[0m\u001b[0;32m     11\u001b[0m \u001b[1;33m\u001b[0m\u001b[0m\n\u001b[0;32m     12\u001b[0m \u001b[1;33m\u001b[0m\u001b[0m\n",
      "\u001b[1;32m<ipython-input-3-1c38984f0f14>\u001b[0m in \u001b[0;36mtrainLR\u001b[1;34m(sc, X_train, y_train, X_test, y_test)\u001b[0m\n\u001b[0;32m     99\u001b[0m     \u001b[0mMAEs\u001b[0m \u001b[1;33m=\u001b[0m \u001b[1;33m[\u001b[0m\u001b[1;33m]\u001b[0m\u001b[1;33m\u001b[0m\u001b[0m\n\u001b[0;32m    100\u001b[0m     \u001b[1;32mfor\u001b[0m \u001b[0midx\u001b[0m \u001b[1;32min\u001b[0m \u001b[0mrange\u001b[0m\u001b[1;33m(\u001b[0m\u001b[1;36m24\u001b[0m\u001b[1;33m)\u001b[0m\u001b[1;33m:\u001b[0m\u001b[1;33m\u001b[0m\u001b[0m\n\u001b[1;32m--> 101\u001b[1;33m         \u001b[0mmse\u001b[0m \u001b[1;33m=\u001b[0m \u001b[0mmean_squared_error\u001b[0m\u001b[1;33m(\u001b[0m\u001b[0mpredicted_LR\u001b[0m\u001b[1;33m[\u001b[0m\u001b[1;33m:\u001b[0m\u001b[1;33m,\u001b[0m\u001b[0midx\u001b[0m\u001b[1;33m]\u001b[0m\u001b[1;33m,\u001b[0m \u001b[0mori_y_test\u001b[0m\u001b[1;33m[\u001b[0m\u001b[1;33m:\u001b[0m\u001b[1;33m,\u001b[0m\u001b[0midx\u001b[0m\u001b[1;33m]\u001b[0m\u001b[1;33m)\u001b[0m\u001b[1;33m\u001b[0m\u001b[0m\n\u001b[0m\u001b[0;32m    102\u001b[0m         \u001b[0mmae\u001b[0m \u001b[1;33m=\u001b[0m \u001b[0mmean_absolute_error\u001b[0m\u001b[1;33m(\u001b[0m\u001b[0mpredicted_LR\u001b[0m\u001b[1;33m[\u001b[0m\u001b[1;33m:\u001b[0m\u001b[1;33m,\u001b[0m\u001b[0midx\u001b[0m\u001b[1;33m]\u001b[0m\u001b[1;33m,\u001b[0m \u001b[0mori_y_test\u001b[0m\u001b[1;33m[\u001b[0m\u001b[1;33m:\u001b[0m\u001b[1;33m,\u001b[0m\u001b[0midx\u001b[0m\u001b[1;33m]\u001b[0m\u001b[1;33m)\u001b[0m\u001b[1;33m\u001b[0m\u001b[0m\n\u001b[0;32m    103\u001b[0m         \u001b[0mMSEs\u001b[0m\u001b[1;33m.\u001b[0m\u001b[0mappend\u001b[0m\u001b[1;33m(\u001b[0m\u001b[0mmse\u001b[0m\u001b[1;33m)\u001b[0m\u001b[1;33m\u001b[0m\u001b[0m\n",
      "\u001b[1;31mIndexError\u001b[0m: index 19 is out of bounds for axis 1 with size 19"
     ]
    }
   ],
   "source": [
    "\n",
    "\n",
    "stationList = getStationList()\n",
    "col=1\n",
    "for station in tqdm(stationList):\n",
    "\n",
    "    \n",
    "    \n",
    "    sc, X_train, y_train, X_test, y_test = fetchData(station,31)\n",
    "    mseList, maeList = trainLR(sc, X_train, y_train, X_test, y_test)\n",
    "    \n",
    "  \n",
    "    book = xlwt.Workbook(encoding=\"utf-8\")\n",
    "    sheet1 = book.add_sheet(\"Sheet1\")\n",
    "    writeExcelHead(sheet1,24,station)\n",
    "    row = 1\n",
    "    for mse in mseList:\n",
    "        sheet1.write(row,1,mse)\n",
    "        row+=1\n",
    "    row = 1\n",
    "    for mae in maeList:\n",
    "        sheet1.write(row,2,mae)\n",
    "        row+=1\n",
    "    book.save(\"excelFiles/LR/LRresult-\"+station+\".xls\")\n"
   ]
  },
  {
   "cell_type": "code",
   "execution_count": 4,
   "metadata": {},
   "outputs": [
    {
     "data": {
      "text/plain": [
       "[4, 5, 6, 7, 8, 9]"
      ]
     },
     "execution_count": 4,
     "metadata": {},
     "output_type": "execute_result"
    }
   ],
   "source": [
    "k = [1,2,3,4,5,6,7,8,9]\n",
    "k[-6:]"
   ]
  },
  {
   "cell_type": "code",
   "execution_count": 10,
   "metadata": {},
   "outputs": [
    {
     "data": {
      "text/plain": [
       "[3, 4, 5]"
      ]
     },
     "execution_count": 10,
     "metadata": {},
     "output_type": "execute_result"
    }
   ],
   "source": [
    "k = [1,2,3,4,5]\n",
    "k[2:]\n",
    "\n"
   ]
  },
  {
   "cell_type": "code",
   "execution_count": null,
   "metadata": {},
   "outputs": [],
   "source": [
    "        X.append(windows[i][:6])\n",
    "        y.append(windows[i][-(windosSize-6):])"
   ]
  }
 ],
 "metadata": {
  "kernelspec": {
   "display_name": "Python 3",
   "language": "python",
   "name": "python3"
  },
  "language_info": {
   "codemirror_mode": {
    "name": "ipython",
    "version": 3
   },
   "file_extension": ".py",
   "mimetype": "text/x-python",
   "name": "python",
   "nbconvert_exporter": "python",
   "pygments_lexer": "ipython3",
   "version": "3.6.5"
  }
 },
 "nbformat": 4,
 "nbformat_minor": 2
}
