{
 "cells": [
  {
   "cell_type": "code",
   "execution_count": 4,
   "metadata": {},
   "outputs": [],
   "source": [
    "import sys\n",
    "import xlwt\n",
    "\n",
    "\n",
    "#使用Worksheet裡的write函式將值寫入\n",
    "for r in range(10):\n",
    "    for c in range(4):\n",
    "        book = xlwt.Workbook(encoding=\"utf-8\")\n",
    "        sheet1 = book.add_sheet(\"Sheet1\")\n",
    "        sheet1.write(r,c,r+c)\n",
    "        book.save('xlsFiles/example'+str(r+c)+'.xls')\n",
    "#將Workbook儲存為原生Excel格式的檔案\n",
    "\n",
    "\n",
    "\n",
    "    "
   ]
  },
  {
   "cell_type": "code",
   "execution_count": null,
   "metadata": {},
   "outputs": [],
   "source": []
  }
 ],
 "metadata": {
  "kernelspec": {
   "display_name": "Python 3",
   "language": "python",
   "name": "python3"
  },
  "language_info": {
   "codemirror_mode": {
    "name": "ipython",
    "version": 3
   },
   "file_extension": ".py",
   "mimetype": "text/x-python",
   "name": "python",
   "nbconvert_exporter": "python",
   "pygments_lexer": "ipython3",
   "version": "3.6.5"
  }
 },
 "nbformat": 4,
 "nbformat_minor": 2
}
