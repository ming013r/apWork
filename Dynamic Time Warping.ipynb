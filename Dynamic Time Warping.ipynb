{
 "cells": [
  {
   "cell_type": "code",
   "execution_count": 4,
   "metadata": {},
   "outputs": [],
   "source": [
    "import numpy as np\n",
    "from dtw import dtw\n",
    "\n",
    "x = np.array([2, 0, 1, 1, 2, 4, 2, 1, 2, 0]).reshape(-1, 1)\n",
    "y = np.array([1, 1, 2, 4, 2, 1, 2, 0]).reshape(-1, 1)\n",
    "euclidean_norm = lambda x, y: np.abs(x - y)\n",
    "\n",
    "d, cost_matrix, acc_cost_matrix, path = dtw(x, y, dist=euclidean_norm)\n"
   ]
  },
  {
   "cell_type": "code",
   "execution_count": 5,
   "metadata": {},
   "outputs": [
    {
     "data": {
      "text/plain": [
       "0.0"
      ]
     },
     "execution_count": 5,
     "metadata": {},
     "output_type": "execute_result"
    }
   ],
   "source": [
    "import MySQLdb\n",
    "print('start  :' + str(datetime.datetime.now()))\n",
    "print('running...')\n",
    "db=MySQLdb.connect(host=\"localhost\",user=\"root\", passwd=\"swater0\", db=\"airdb\", charset=\"utf8\")\n",
    "cursor = db.cursor()\n",
    "stationList = getStationList(cursor)\n",
    "targetList = getStationList(cursor)\n",
    "totalList = []\n",
    "count = 0\n",
    "for targetStation in targetList:\n",
    "    print('processing : '+ targetStation+' Station  '+str(count)+'/80'+str(datetime.datetime.now()))\n",
    "    print('---------------------------------------------')\n",
    "    count += 1\n",
    "    aStationList = []\n",
    "    for currentStation in stationList:\n",
    "        Xtrain, targetData = fetchTrainData(targetStation, currentStation, cursor)\n",
    "        time_series = to_time_series_dataset(Xtrain)\n",
    "        knn = KNeighborsTimeSeries(n_neighbors=1).fit(time_series)\n",
    "        \n",
    "        dist, ind = knn.kneighbors(to_time_series_dataset(targetData), return_distance=True)\n",
    "\n",
    "        aStationList.append(dist)\n",
    "        print('check point at ' + str(datetime.datetime.now()))\n",
    "            \n",
    "    with open('pickles/'+targetStation+'.pkl', 'wb') as f:\n",
    "        pickle.dump(aStationList, f)\n",
    "db.close()"
   ]
  },
  {
   "cell_type": "code",
   "execution_count": null,
   "metadata": {},
   "outputs": [],
   "source": []
  }
 ],
 "metadata": {
  "kernelspec": {
   "display_name": "Python 3",
   "language": "python",
   "name": "python3"
  },
  "language_info": {
   "codemirror_mode": {
    "name": "ipython",
    "version": 3
   },
   "file_extension": ".py",
   "mimetype": "text/x-python",
   "name": "python",
   "nbconvert_exporter": "python",
   "pygments_lexer": "ipython3",
   "version": "3.6.5"
  }
 },
 "nbformat": 4,
 "nbformat_minor": 2
}
