{
 "cells": [
  {
   "cell_type": "code",
   "execution_count": 4,
   "metadata": {},
   "outputs": [],
   "source": [
    "import numpy as np\n",
    "from dtw import dtw\n",
    "\n",
    "x = np.array([2, 0, 1, 1, 2, 4, 2, 1, 2, 0]).reshape(-1, 1)\n",
    "y = np.array([1, 1, 2, 4, 2, 1, 2, 0]).reshape(-1, 1)\n",
    "euclidean_norm = lambda x, y: np.abs(x - y)\n",
    "\n",
    "d, cost_matrix, acc_cost_matrix, path = dtw(x, y, dist=euclidean_norm)\n"
   ]
  },
  {
   "cell_type": "code",
   "execution_count": 12,
   "metadata": {},
   "outputs": [],
   "source": [
    "import pickle\n",
    "import datetime\n",
    "def getStation():\n",
    "    with open('DBaccess/dbPickle/stationList.pickle', 'rb') as f:\n",
    "        stationList = pickle.load(f)\n",
    "    return stationList\n",
    "def loadDB():\n",
    "    with open('DBaccess/dbPickle/cleandataDB.pickle', 'rb') as f:\n",
    "        DB = pickle.load(f)\n",
    "    return DB\n",
    "def stationFilter(DB,station):\n",
    "    DB2 = []\n",
    "    for row in DB:\n",
    "        if row[1] == station:\n",
    "            DB2.append(row)\n",
    "    return DB2\n",
    "def DTWD(x,y):\n",
    "    x = np.array(x).reshape(-1, 1)\n",
    "    y = np.array(y).reshape(-1, 1)\n",
    "    euclidean_norm = lambda x, y: np.abs(x - y)\n",
    "    d, cost_matrix, acc_cost_matrix, path = dtw(x, y, dist=euclidean_norm)\n",
    "def emptyDateFilter(DB,stations):\n",
    "    DateList = []\n",
    "    for year in range(2013,2019):\n",
    "        for month in range(0,13):\n",
    "            for day in range(1,32):\n",
    "                dString = str(year)+'/'+str(month)+'/'+str(day)\n",
    "                DateList.append(dString)\n",
    "    DateList2 = DateList.copy()\n",
    "    for d in DateList:\n",
    "        has  = False\n",
    "        print('start filt'+d)\n",
    "        for station in stations:\n",
    "            sData = stationFilter(DB,station)\n",
    "            for row in sData:\n",
    "                if row[1] == d:\n",
    "                    has = True\n",
    "        if has == False:\n",
    "            DateList2.remove(d)\n",
    "            \n",
    "    return DateList2\n",
    " "
   ]
  },
  {
   "cell_type": "code",
   "execution_count": 67,
   "metadata": {},
   "outputs": [
    {
     "name": "stdout",
     "output_type": "stream",
     "text": [
      "start at 2019-05-05 23:14:39.873610\n",
      "start filt2013/0/1\n",
      "start filt2013/0/2\n",
      "start filt2013/0/3\n",
      "start filt2013/0/4\n"
     ]
    },
    {
     "ename": "KeyboardInterrupt",
     "evalue": "",
     "output_type": "error",
     "traceback": [
      "\u001b[1;31m---------------------------------------------------------------------------\u001b[0m",
      "\u001b[1;31mKeyboardInterrupt\u001b[0m                         Traceback (most recent call last)",
      "\u001b[1;32m<ipython-input-67-d9b1abcc15d4>\u001b[0m in \u001b[0;36m<module>\u001b[1;34m\u001b[0m\n\u001b[0;32m      1\u001b[0m \u001b[0mprint\u001b[0m\u001b[1;33m(\u001b[0m\u001b[1;34m'start at '\u001b[0m \u001b[1;33m+\u001b[0m \u001b[0mstr\u001b[0m\u001b[1;33m(\u001b[0m\u001b[0mdatetime\u001b[0m\u001b[1;33m.\u001b[0m\u001b[0mdatetime\u001b[0m\u001b[1;33m.\u001b[0m\u001b[0mnow\u001b[0m\u001b[1;33m(\u001b[0m\u001b[1;33m)\u001b[0m\u001b[1;33m)\u001b[0m\u001b[1;33m)\u001b[0m\u001b[1;33m\u001b[0m\u001b[1;33m\u001b[0m\u001b[0m\n\u001b[0;32m      2\u001b[0m \u001b[0mstations\u001b[0m \u001b[1;33m=\u001b[0m \u001b[0mgetStation\u001b[0m\u001b[1;33m(\u001b[0m\u001b[1;33m)\u001b[0m\u001b[1;33m\u001b[0m\u001b[1;33m\u001b[0m\u001b[0m\n\u001b[1;32m----> 3\u001b[1;33m \u001b[0mDB\u001b[0m \u001b[1;33m=\u001b[0m \u001b[0memptyDateFilter\u001b[0m\u001b[1;33m(\u001b[0m\u001b[0mloadDB\u001b[0m\u001b[1;33m(\u001b[0m\u001b[1;33m)\u001b[0m\u001b[1;33m,\u001b[0m\u001b[0mstations\u001b[0m\u001b[1;33m)\u001b[0m\u001b[1;33m\u001b[0m\u001b[1;33m\u001b[0m\u001b[0m\n\u001b[0m\u001b[0;32m      4\u001b[0m \u001b[1;33m\u001b[0m\u001b[0m\n\u001b[0;32m      5\u001b[0m \u001b[0mdistances\u001b[0m \u001b[1;33m=\u001b[0m \u001b[1;33m[\u001b[0m\u001b[1;33m]\u001b[0m\u001b[1;33m\u001b[0m\u001b[1;33m\u001b[0m\u001b[0m\n",
      "\u001b[1;32m<ipython-input-66-4fb1db34bbbc>\u001b[0m in \u001b[0;36memptyDateFilter\u001b[1;34m(DB, stations)\u001b[0m\n\u001b[0;32m     33\u001b[0m         \u001b[1;32mfor\u001b[0m \u001b[0mstation\u001b[0m \u001b[1;32min\u001b[0m \u001b[0mstations\u001b[0m\u001b[1;33m:\u001b[0m\u001b[1;33m\u001b[0m\u001b[1;33m\u001b[0m\u001b[0m\n\u001b[0;32m     34\u001b[0m \u001b[1;33m\u001b[0m\u001b[0m\n\u001b[1;32m---> 35\u001b[1;33m             \u001b[0msData\u001b[0m \u001b[1;33m=\u001b[0m \u001b[0mstationFilter\u001b[0m\u001b[1;33m(\u001b[0m\u001b[0mDB\u001b[0m\u001b[1;33m,\u001b[0m\u001b[0mstation\u001b[0m\u001b[1;33m)\u001b[0m\u001b[1;33m\u001b[0m\u001b[1;33m\u001b[0m\u001b[0m\n\u001b[0m\u001b[0;32m     36\u001b[0m             \u001b[1;32mfor\u001b[0m \u001b[0mrow\u001b[0m \u001b[1;32min\u001b[0m \u001b[0msData\u001b[0m\u001b[1;33m:\u001b[0m\u001b[1;33m\u001b[0m\u001b[1;33m\u001b[0m\u001b[0m\n\u001b[0;32m     37\u001b[0m                 \u001b[1;32mif\u001b[0m \u001b[0mrow\u001b[0m\u001b[1;33m[\u001b[0m\u001b[1;36m1\u001b[0m\u001b[1;33m]\u001b[0m \u001b[1;33m==\u001b[0m \u001b[0md\u001b[0m\u001b[1;33m:\u001b[0m\u001b[1;33m\u001b[0m\u001b[1;33m\u001b[0m\u001b[0m\n",
      "\u001b[1;32m<ipython-input-66-4fb1db34bbbc>\u001b[0m in \u001b[0;36mstationFilter\u001b[1;34m(DB, station)\u001b[0m\n\u001b[0;32m     12\u001b[0m     \u001b[0mDB2\u001b[0m \u001b[1;33m=\u001b[0m \u001b[1;33m[\u001b[0m\u001b[1;33m]\u001b[0m\u001b[1;33m\u001b[0m\u001b[1;33m\u001b[0m\u001b[0m\n\u001b[0;32m     13\u001b[0m     \u001b[1;32mfor\u001b[0m \u001b[0mrow\u001b[0m \u001b[1;32min\u001b[0m \u001b[0mDB\u001b[0m\u001b[1;33m:\u001b[0m\u001b[1;33m\u001b[0m\u001b[1;33m\u001b[0m\u001b[0m\n\u001b[1;32m---> 14\u001b[1;33m         \u001b[1;32mif\u001b[0m \u001b[0mrow\u001b[0m\u001b[1;33m[\u001b[0m\u001b[1;36m1\u001b[0m\u001b[1;33m]\u001b[0m \u001b[1;33m==\u001b[0m \u001b[0mstation\u001b[0m\u001b[1;33m:\u001b[0m\u001b[1;33m\u001b[0m\u001b[1;33m\u001b[0m\u001b[0m\n\u001b[0m\u001b[0;32m     15\u001b[0m             \u001b[0mDB2\u001b[0m\u001b[1;33m.\u001b[0m\u001b[0mappend\u001b[0m\u001b[1;33m(\u001b[0m\u001b[0mrow\u001b[0m\u001b[1;33m)\u001b[0m\u001b[1;33m\u001b[0m\u001b[1;33m\u001b[0m\u001b[0m\n\u001b[0;32m     16\u001b[0m     \u001b[1;32mreturn\u001b[0m \u001b[0mDB2\u001b[0m\u001b[1;33m\u001b[0m\u001b[1;33m\u001b[0m\u001b[0m\n",
      "\u001b[1;31mKeyboardInterrupt\u001b[0m: "
     ]
    }
   ],
   "source": [
    "print('start at ' + str(datetime.datetime.now()))\n",
    "stations = getStation()\n",
    "DB = emptyDateFilter(loadDB(),stations)\n",
    "\n",
    "distances = []\n",
    "for station in stations:\n",
    "    DTWD(station)\n",
    "        \n",
    "        \n",
    "print('finish at ' + str(datetime.datetime.now()))"
   ]
  },
  {
   "cell_type": "code",
   "execution_count": null,
   "metadata": {},
   "outputs": [
    {
     "name": "stdout",
     "output_type": "stream",
     "text": [
      "start filt2013/0/1\n",
      "start filt2013/0/2\n",
      "start filt2013/0/3\n",
      "start filt2013/0/4\n",
      "start filt2013/0/5\n",
      "start filt2013/0/6\n",
      "start filt2013/0/7\n",
      "start filt2013/0/8\n",
      "start filt2013/0/9\n",
      "start filt2013/0/10\n",
      "start filt2013/0/11\n",
      "start filt2013/0/12\n",
      "start filt2013/0/13\n",
      "start filt2013/0/14\n",
      "start filt2013/0/15\n",
      "start filt2013/0/16\n",
      "start filt2013/0/17\n",
      "start filt2013/0/18\n",
      "start filt2013/0/19\n",
      "start filt2013/0/20\n",
      "start filt2013/0/21\n",
      "start filt2013/0/22\n",
      "start filt2013/0/23\n",
      "start filt2013/0/24\n",
      "start filt2013/0/25\n",
      "start filt2013/0/26\n",
      "start filt2013/0/27\n",
      "start filt2013/0/28\n",
      "start filt2013/0/29\n",
      "start filt2013/0/30\n",
      "start filt2013/0/31\n",
      "start filt2013/1/1\n",
      "start filt2013/1/2\n",
      "start filt2013/1/3\n",
      "start filt2013/1/4\n",
      "start filt2013/1/5\n",
      "start filt2013/1/6\n",
      "start filt2013/1/7\n",
      "start filt2013/1/8\n",
      "start filt2013/1/9\n",
      "start filt2013/1/10\n",
      "start filt2013/1/11\n",
      "start filt2013/1/12\n",
      "start filt2013/1/13\n",
      "start filt2013/1/14\n",
      "start filt2013/1/15\n",
      "start filt2013/1/16\n",
      "start filt2013/1/17\n",
      "start filt2013/1/18\n",
      "start filt2013/1/19\n",
      "start filt2013/1/20\n",
      "start filt2013/1/21\n",
      "start filt2013/1/22\n",
      "start filt2013/1/23\n",
      "start filt2013/1/24\n",
      "start filt2013/1/25\n",
      "start filt2013/1/26\n",
      "start filt2013/1/27\n",
      "start filt2013/1/28\n",
      "start filt2013/1/29\n",
      "start filt2013/1/30\n",
      "start filt2013/1/31\n",
      "start filt2013/2/1\n",
      "start filt2013/2/2\n",
      "start filt2013/2/3\n",
      "start filt2013/2/4\n",
      "start filt2013/2/5\n",
      "start filt2013/2/6\n",
      "start filt2013/2/7\n",
      "start filt2013/2/8\n",
      "start filt2013/2/9\n",
      "start filt2013/2/10\n",
      "start filt2013/2/11\n",
      "start filt2013/2/12\n",
      "start filt2013/2/13\n",
      "start filt2013/2/14\n",
      "start filt2013/2/15\n",
      "start filt2013/2/16\n",
      "start filt2013/2/17\n",
      "start filt2013/2/18\n",
      "start filt2013/2/19\n",
      "start filt2013/2/20\n",
      "start filt2013/2/21\n"
     ]
    }
   ],
   "source": [
    "k = emptyDateFilter(loadDB(),getStation()) # start from 11pm"
   ]
  },
  {
   "cell_type": "code",
   "execution_count": 10,
   "metadata": {},
   "outputs": [
    {
     "data": {
      "text/plain": [
       "[1, 2, 3, 4]"
      ]
     },
     "execution_count": 10,
     "metadata": {},
     "output_type": "execute_result"
    }
   ],
   "source": [
    "m = [1,2,3,4]\n",
    "n = m.copy()\n",
    "n.remove(2)\n",
    "m"
   ]
  },
  {
   "cell_type": "code",
   "execution_count": null,
   "metadata": {},
   "outputs": [],
   "source": []
  }
 ],
 "metadata": {
  "kernelspec": {
   "display_name": "Python 3",
   "language": "python",
   "name": "python3"
  },
  "language_info": {
   "codemirror_mode": {
    "name": "ipython",
    "version": 3
   },
   "file_extension": ".py",
   "mimetype": "text/x-python",
   "name": "python",
   "nbconvert_exporter": "python",
   "pygments_lexer": "ipython3",
   "version": "3.6.5"
  }
 },
 "nbformat": 4,
 "nbformat_minor": 2
}
