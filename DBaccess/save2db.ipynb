{
 "cells": [
  {
   "cell_type": "code",
   "execution_count": null,
   "metadata": {
    "scrolled": true
   },
   "outputs": [],
   "source": [
    "import MySQLdb     \n",
    "import pandas as pd\n",
    "\n",
    "def writeEach(df, db):\n",
    "    cursor = db.cursor()\n",
    "    for i in range(df['日期'].count()):\n",
    "        aVal = '('\n",
    "        for j in df.iloc[i]:\n",
    "            aVal = aVal + (\"'\" + str(j) + \"',\")\n",
    "        aVal = aVal[:-1] +\")\"\n",
    "        \n",
    "        #qString  = \"INSERT INTO air VALUES\" + aVal\n",
    "        #cursor.execute(qString)\n",
    "    return df['日期'].count()\n",
    "                \n",
    "def writeTodb(df):\n",
    "\n",
    "    \n",
    "    val=''\n",
    "    for i in range(df['日期'].count()):\n",
    "        aVal = '('\n",
    "        ccnt = 0\n",
    "        for j in df.iloc[i]:\n",
    "            if ccnt <= 2:\n",
    "                aVal = aVal + (\"'\" + str(j) + \"',\")\n",
    "            else :\n",
    "                aVal = aVal + ( str(j) + ',')\n",
    "            ccnt += 1\n",
    "        aVal = aVal[:-1] + '),'\n",
    "        val = val + aVal\n",
    "    val = val[:-1]\n",
    "    print(val)\n",
    "    cursor.execute(\"INSERT INTO air VALUES\" + val )\n",
    "    \n",
    "\n",
    "\n",
    "if __name__ == '__main__':\n",
    "    db=MySQLdb.connect(host=\"localhost\",user=\"root\", passwd=\"swater0\", db=\"airdb\", charset=\"utf8\")\n",
    "\n",
    "    os.chdir(\"C:/Users/ming/Desktop/data\")\n",
    "    #df = pd.read_excel('test.xls')\n",
    "    #writeTodb(df.head(3))\n",
    "    totalRows = 0\n",
    "    files = 0\n",
    "    for direct in glob.glob(\"*\"):\n",
    "        if os.path.isdir(direct):\n",
    "            os.chdir(direct)\n",
    "            for file in glob.glob(\"*.xls\"):\n",
    "                df = pd.read_excel(file)\n",
    "                writeEach(df,db)\n",
    "                fileRows = writeEach(df,db)\n",
    "                totalRows +=  fileRows\n",
    "                files+=1\n",
    "                #writeTodb(df)\n",
    "            os.chdir(\"..\")\n",
    "    db.close()\n",
    "    print(\"file count : \" + str(files))\n",
    "    print(\"rows count :\" + str(totalRows))"
   ]
  },
  {
   "cell_type": "code",
   "execution_count": 27,
   "metadata": {},
   "outputs": [
    {
     "name": "stdout",
     "output_type": "stream",
     "text": [
      "INSERT INTO testtb VALUES ('有名','0240','mail',24)\n"
     ]
    }
   ],
   "source": [
    "####Test area#####\n",
    "db=MySQLdb.connect(host=\"localhost\",user=\"root\", passwd=\"swater0\", db=\"testdb\", charset=\"utf8\")\n",
    "cursor = db.cursor()\n",
    "queryString = \"INSERT INTO testtb VALUES ('有名','0240','mail',24)\"\n",
    "print(queryString)\n",
    "#cursor.execute(\"INSERT INTO testtb VALUES ('有名','0240','mail',24)\")\n",
    "db.close()"
   ]
  },
  {
   "cell_type": "code",
   "execution_count": 65,
   "metadata": {
    "scrolled": true
   },
   "outputs": [
    {
     "name": "stdout",
     "output_type": "stream",
     "text": [
      "106年 中部空品區\n",
      "106年 北部空品區\n",
      "106年 宜蘭空品區\n",
      "106年 竹苗空品區\n",
      "106年 花東空品區\n",
      "106年 離島監測站\n",
      "106年 雲嘉南空品區\n",
      "106年 高屏空品區\n"
     ]
    },
    {
     "ename": "NotADirectoryError",
     "evalue": "[WinError 267] 目錄名稱無效。: 'pmysql.py'",
     "output_type": "error",
     "traceback": [
      "\u001b[1;31m---------------------------------------------------------------------------\u001b[0m",
      "\u001b[1;31mNotADirectoryError\u001b[0m                        Traceback (most recent call last)",
      "\u001b[1;32m<ipython-input-65-d5ea3dda53de>\u001b[0m in \u001b[0;36m<module>\u001b[1;34m\u001b[0m\n\u001b[0;32m      4\u001b[0m \u001b[0mos\u001b[0m\u001b[1;33m.\u001b[0m\u001b[0mchdir\u001b[0m\u001b[1;33m(\u001b[0m\u001b[1;34m\"C:/Users/ming/Desktop/data\"\u001b[0m\u001b[1;33m)\u001b[0m\u001b[1;33m\u001b[0m\u001b[0m\n\u001b[0;32m      5\u001b[0m \u001b[1;32mfor\u001b[0m \u001b[0mdirect\u001b[0m \u001b[1;32min\u001b[0m \u001b[0mglob\u001b[0m\u001b[1;33m.\u001b[0m\u001b[0mglob\u001b[0m\u001b[1;33m(\u001b[0m\u001b[1;34m\"*\"\u001b[0m\u001b[1;33m)\u001b[0m\u001b[1;33m:\u001b[0m\u001b[1;33m\u001b[0m\u001b[0m\n\u001b[1;32m----> 6\u001b[1;33m     \u001b[0mos\u001b[0m\u001b[1;33m.\u001b[0m\u001b[0mchdir\u001b[0m\u001b[1;33m(\u001b[0m\u001b[0mdirect\u001b[0m\u001b[1;33m)\u001b[0m\u001b[1;33m\u001b[0m\u001b[0m\n\u001b[0m\u001b[0;32m      7\u001b[0m \u001b[1;31m#for file in glob.glob(\"*\"):\u001b[0m\u001b[1;33m\u001b[0m\u001b[1;33m\u001b[0m\u001b[0m\n\u001b[0;32m      8\u001b[0m     \u001b[0mprint\u001b[0m\u001b[1;33m(\u001b[0m\u001b[0mdirect\u001b[0m\u001b[1;33m)\u001b[0m\u001b[1;33m\u001b[0m\u001b[0m\n",
      "\u001b[1;31mNotADirectoryError\u001b[0m: [WinError 267] 目錄名稱無效。: 'pmysql.py'"
     ]
    }
   ],
   "source": [
    "os.chdir(\"C:/Users/ming/Desktop/data\")\n",
    "    for direct in glob.glob(\"*\"):\n",
    "        if os.path.isdir(direct):\n",
    "            os.chdir(direct)\n",
    "            for file in glob.glob(\"*.xls\"):\n",
    "                df = pd.read_excel(file)\n",
    "                writeTodb(df)\n",
    "            os.chdir(\"..\")"
   ]
  },
  {
   "cell_type": "code",
   "execution_count": 7,
   "metadata": {},
   "outputs": [
    {
     "name": "stdout",
     "output_type": "stream",
     "text": [
      "shampoo-sales.csv\n"
     ]
    }
   ],
   "source": [
    "import os, glob\n",
    "os.chdir(\"C:\\\\Users\\\\ming\\\\Desktop\\\\Workspace\\\\data\\\\target\")\n",
    "for direct in glob.glob(\"*.csv\"):\n",
    "    print(direct)"
   ]
  },
  {
   "cell_type": "code",
   "execution_count": null,
   "metadata": {},
   "outputs": [],
   "source": []
  }
 ],
 "metadata": {
  "kernelspec": {
   "display_name": "Python 3",
   "language": "python",
   "name": "python3"
  },
  "language_info": {
   "codemirror_mode": {
    "name": "ipython",
    "version": 3
   },
   "file_extension": ".py",
   "mimetype": "text/x-python",
   "name": "python",
   "nbconvert_exporter": "python",
   "pygments_lexer": "ipython3",
   "version": "3.6.5"
  }
 },
 "nbformat": 4,
 "nbformat_minor": 2
}
