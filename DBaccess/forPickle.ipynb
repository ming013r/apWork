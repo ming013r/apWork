{
 "cells": [
  {
   "cell_type": "code",
   "execution_count": 8,
   "metadata": {},
   "outputs": [],
   "source": [
    "import numpy as np\n",
    "import math\n",
    "import matplotlib.pyplot as plt  \n",
    "from sklearn.metrics import mean_squared_error\n",
    "import pandas as pd\n",
    "import pickle\n",
    "from keras.layers import Dropout\n",
    "from keras.layers import Dense,Input\n",
    "from keras.models import Sequential,Model\n",
    "from keras.callbacks import EarlyStopping\n",
    "import numpy\n",
    "\n",
    "import sys\n",
    "import xlwt\n",
    "##get data##\n",
    "import MySQLdb\n",
    "from sklearn.preprocessing import MinMaxScaler\n",
    "\n",
    "def getStationList(cursor):\n",
    "    stationList = []\n",
    "    queryString = \"SELECT distinct station from cleandata\"\n",
    "    cursor.execute(queryString)\n",
    "    results = cursor.fetchall()\n",
    "    for row in results :\n",
    "        val = str(row).strip(\"',()\")\n",
    "        stationList.append(val)\n",
    "    stationList.remove('富貴角')##only 106少數資料\n",
    "    \n",
    "    with open('stationList.pickle', 'wb') as handle:\n",
    "        pickle.dump(stationList, handle, protocol=pickle.HIGHEST_PROTOCOL)\n",
    "                    \n",
    "    return stationList\n",
    "\n",
    "\n",
    "\n",
    "def fetchData(cursor):\n",
    "    queryString = \"SELECT * from cleandata where item = 'PM2.5'\"\n",
    "    cursor.execute(queryString)\n",
    "    results = cursor.fetchall()\n",
    "    print(type(results))\n",
    "    #trainRawData = []\n",
    "    #for row in results:\n",
    "    #    for i in range(3,27):\n",
    "    #        trainRawData.append(float(row[i]))\n",
    "    with open('pickles/cleandata.pickle', 'wb') as handle:\n",
    "        pickle.dump(trainRawData, handle, protocol=pickle.HIGHEST_PROTOCOL)\n",
    "                    \n",
    "                    \n"
   ]
  },
  {
   "cell_type": "code",
   "execution_count": 9,
   "metadata": {},
   "outputs": [
    {
     "name": "stdout",
     "output_type": "stream",
     "text": [
      "<class 'tuple'>\n"
     ]
    }
   ],
   "source": [
    "import datetime\n",
    "db=MySQLdb.connect(host=\"localhost\",user=\"root\", passwd=\"swater0\", db=\"airdb\", charset=\"utf8\")\n",
    "cursor = db.cursor()\n",
    "\n",
    "stationList = getStationList(cursor)\n",
    "\n",
    "fetchData(cursor)\n",
    "    \n",
    "\n",
    "db.close()\n"
   ]
  },
  {
   "cell_type": "code",
   "execution_count": 21,
   "metadata": {},
   "outputs": [
    {
     "data": {
      "text/plain": [
       "array([[0.05180421, 0.06033435, 0.06701006]], dtype=float32)"
      ]
     },
     "execution_count": 21,
     "metadata": {},
     "output_type": "execute_result"
    }
   ],
   "source": [
    "regressor.predict(X_test[:1])"
   ]
  },
  {
   "cell_type": "code",
   "execution_count": null,
   "metadata": {},
   "outputs": [],
   "source": []
  }
 ],
 "metadata": {
  "kernelspec": {
   "display_name": "Python 3",
   "language": "python",
   "name": "python3"
  },
  "language_info": {
   "codemirror_mode": {
    "name": "ipython",
    "version": 3
   },
   "file_extension": ".py",
   "mimetype": "text/x-python",
   "name": "python",
   "nbconvert_exporter": "python",
   "pygments_lexer": "ipython3",
   "version": "3.6.5"
  }
 },
 "nbformat": 4,
 "nbformat_minor": 2
}
