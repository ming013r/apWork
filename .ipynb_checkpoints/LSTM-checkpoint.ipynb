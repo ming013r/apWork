{
 "cells": [
  {
   "cell_type": "code",
   "execution_count": 20,
   "metadata": {},
   "outputs": [
    {
     "name": "stdout",
     "output_type": "stream",
     "text": [
      "松山\n"
     ]
    },
    {
     "data": {
      "application/vnd.jupyter.widget-view+json": {
       "model_id": "448e17f7cbd5484daa8f80ef776d1a8b",
       "version_major": 2,
       "version_minor": 0
      },
      "text/plain": [
       "HBox(children=(IntProgress(value=0, max=5), HTML(value='')))"
      ]
     },
     "metadata": {},
     "output_type": "display_data"
    },
    {
     "name": "stdout",
     "output_type": "stream",
     "text": [
      "training : 松山\n"
     ]
    },
    {
     "data": {
      "application/vnd.jupyter.widget-view+json": {
       "model_id": "d5bfcf70719c4df4ab3a9830afa7f829",
       "version_major": 2,
       "version_minor": 0
      },
      "text/plain": [
       "HBox(children=(IntProgress(value=0, max=24), HTML(value='')))"
      ]
     },
     "metadata": {},
     "output_type": "display_data"
    },
    {
     "name": "stdout",
     "output_type": "stream",
     "text": [
      "(22883, 1)\n",
      "(3947, 1)\n"
     ]
    },
    {
     "data": {
      "application/vnd.jupyter.widget-view+json": {
       "model_id": "fca90741f4684a7dbc2302cb3839f083",
       "version_major": 2,
       "version_minor": 0
      },
      "text/plain": [
       "HBox(children=(IntProgress(value=0, max=250), HTML(value='')))"
      ]
     },
     "metadata": {},
     "output_type": "display_data"
    },
    {
     "name": "stdout",
     "output_type": "stream",
     "text": [
      "(22882, 1)\n",
      "(3946, 1)\n"
     ]
    },
    {
     "data": {
      "application/vnd.jupyter.widget-view+json": {
       "model_id": "4654bfa1ea124ba39478ce1750642517",
       "version_major": 2,
       "version_minor": 0
      },
      "text/plain": [
       "HBox(children=(IntProgress(value=0, max=250), HTML(value='')))"
      ]
     },
     "metadata": {},
     "output_type": "display_data"
    },
    {
     "name": "stdout",
     "output_type": "stream",
     "text": [
      "(22881, 1)\n",
      "(3945, 1)\n"
     ]
    },
    {
     "data": {
      "application/vnd.jupyter.widget-view+json": {
       "model_id": "c04c8bde53aa4900b9563a672756ffb6",
       "version_major": 2,
       "version_minor": 0
      },
      "text/plain": [
       "HBox(children=(IntProgress(value=0, max=250), HTML(value='')))"
      ]
     },
     "metadata": {},
     "output_type": "display_data"
    },
    {
     "name": "stdout",
     "output_type": "stream",
     "text": [
      "(22880, 1)\n",
      "(3944, 1)\n"
     ]
    },
    {
     "data": {
      "application/vnd.jupyter.widget-view+json": {
       "model_id": "cddb2a064ac04baea43013189f39f45b",
       "version_major": 2,
       "version_minor": 0
      },
      "text/plain": [
       "HBox(children=(IntProgress(value=0, max=250), HTML(value='')))"
      ]
     },
     "metadata": {},
     "output_type": "display_data"
    },
    {
     "name": "stdout",
     "output_type": "stream",
     "text": [
      "(22879, 1)\n",
      "(3943, 1)\n"
     ]
    },
    {
     "data": {
      "application/vnd.jupyter.widget-view+json": {
       "model_id": "f1c7641b0198432cb64da8f01452a003",
       "version_major": 2,
       "version_minor": 0
      },
      "text/plain": [
       "HBox(children=(IntProgress(value=0, max=250), HTML(value='')))"
      ]
     },
     "metadata": {},
     "output_type": "display_data"
    },
    {
     "name": "stdout",
     "output_type": "stream",
     "text": [
      "(22878, 1)\n",
      "(3942, 1)\n"
     ]
    },
    {
     "data": {
      "application/vnd.jupyter.widget-view+json": {
       "model_id": "3c139504c7ff4a31afafc3869cc2eafe",
       "version_major": 2,
       "version_minor": 0
      },
      "text/plain": [
       "HBox(children=(IntProgress(value=0, max=250), HTML(value='')))"
      ]
     },
     "metadata": {},
     "output_type": "display_data"
    },
    {
     "name": "stdout",
     "output_type": "stream",
     "text": [
      "(22877, 1)\n",
      "(3941, 1)\n"
     ]
    },
    {
     "data": {
      "application/vnd.jupyter.widget-view+json": {
       "model_id": "9b64951c22b74e29a0271b8acc0b1f3c",
       "version_major": 2,
       "version_minor": 0
      },
      "text/plain": [
       "HBox(children=(IntProgress(value=0, max=250), HTML(value='')))"
      ]
     },
     "metadata": {},
     "output_type": "display_data"
    },
    {
     "name": "stdout",
     "output_type": "stream",
     "text": [
      "(22876, 1)\n",
      "(3940, 1)\n"
     ]
    },
    {
     "data": {
      "application/vnd.jupyter.widget-view+json": {
       "model_id": "022a7ce2f66244349dd4e870d66edf53",
       "version_major": 2,
       "version_minor": 0
      },
      "text/plain": [
       "HBox(children=(IntProgress(value=0, max=250), HTML(value='')))"
      ]
     },
     "metadata": {},
     "output_type": "display_data"
    },
    {
     "name": "stdout",
     "output_type": "stream",
     "text": [
      "(22875, 1)\n",
      "(3939, 1)\n"
     ]
    },
    {
     "data": {
      "application/vnd.jupyter.widget-view+json": {
       "model_id": "a0b1183494e54d7bbbffd0f883baa7c4",
       "version_major": 2,
       "version_minor": 0
      },
      "text/plain": [
       "HBox(children=(IntProgress(value=0, max=250), HTML(value='')))"
      ]
     },
     "metadata": {},
     "output_type": "display_data"
    },
    {
     "name": "stdout",
     "output_type": "stream",
     "text": [
      "(22874, 1)\n",
      "(3938, 1)\n"
     ]
    },
    {
     "data": {
      "application/vnd.jupyter.widget-view+json": {
       "model_id": "ee86496b312546f9b62bb1cf32021d54",
       "version_major": 2,
       "version_minor": 0
      },
      "text/plain": [
       "HBox(children=(IntProgress(value=0, max=250), HTML(value='')))"
      ]
     },
     "metadata": {},
     "output_type": "display_data"
    },
    {
     "name": "stdout",
     "output_type": "stream",
     "text": [
      "(22873, 1)\n",
      "(3937, 1)\n"
     ]
    },
    {
     "data": {
      "application/vnd.jupyter.widget-view+json": {
       "model_id": "806d2f1a60754039b9f56703e22183c0",
       "version_major": 2,
       "version_minor": 0
      },
      "text/plain": [
       "HBox(children=(IntProgress(value=0, max=250), HTML(value='')))"
      ]
     },
     "metadata": {},
     "output_type": "display_data"
    },
    {
     "name": "stdout",
     "output_type": "stream",
     "text": [
      "(22872, 1)\n",
      "(3936, 1)\n"
     ]
    },
    {
     "data": {
      "application/vnd.jupyter.widget-view+json": {
       "model_id": "f12555458b9d4e34b8631afcebf47cb4",
       "version_major": 2,
       "version_minor": 0
      },
      "text/plain": [
       "HBox(children=(IntProgress(value=0, max=250), HTML(value='')))"
      ]
     },
     "metadata": {},
     "output_type": "display_data"
    },
    {
     "name": "stdout",
     "output_type": "stream",
     "text": [
      "(22871, 1)\n",
      "(3935, 1)\n"
     ]
    },
    {
     "data": {
      "application/vnd.jupyter.widget-view+json": {
       "model_id": "67c5a3efaaf1431ea1d60e6a24bee2a2",
       "version_major": 2,
       "version_minor": 0
      },
      "text/plain": [
       "HBox(children=(IntProgress(value=0, max=250), HTML(value='')))"
      ]
     },
     "metadata": {},
     "output_type": "display_data"
    },
    {
     "name": "stdout",
     "output_type": "stream",
     "text": [
      "(22870, 1)\n",
      "(3934, 1)\n"
     ]
    },
    {
     "data": {
      "application/vnd.jupyter.widget-view+json": {
       "model_id": "3b66a323190b46a8a64073df61f68ca1",
       "version_major": 2,
       "version_minor": 0
      },
      "text/plain": [
       "HBox(children=(IntProgress(value=0, max=250), HTML(value='')))"
      ]
     },
     "metadata": {},
     "output_type": "display_data"
    },
    {
     "name": "stdout",
     "output_type": "stream",
     "text": [
      "(22869, 1)\n",
      "(3933, 1)\n"
     ]
    },
    {
     "data": {
      "application/vnd.jupyter.widget-view+json": {
       "model_id": "46986f6afadf442fbb3f85f893bc089a",
       "version_major": 2,
       "version_minor": 0
      },
      "text/plain": [
       "HBox(children=(IntProgress(value=0, max=250), HTML(value='')))"
      ]
     },
     "metadata": {},
     "output_type": "display_data"
    },
    {
     "name": "stdout",
     "output_type": "stream",
     "text": [
      "(22868, 1)\n",
      "(3932, 1)\n"
     ]
    },
    {
     "data": {
      "application/vnd.jupyter.widget-view+json": {
       "model_id": "2dca851658e742749abec0d285d1cac2",
       "version_major": 2,
       "version_minor": 0
      },
      "text/plain": [
       "HBox(children=(IntProgress(value=0, max=250), HTML(value='')))"
      ]
     },
     "metadata": {},
     "output_type": "display_data"
    },
    {
     "name": "stdout",
     "output_type": "stream",
     "text": [
      "(22867, 1)\n",
      "(3931, 1)\n"
     ]
    },
    {
     "data": {
      "application/vnd.jupyter.widget-view+json": {
       "model_id": "26f84af93b3c4c15bf5761b781c361e5",
       "version_major": 2,
       "version_minor": 0
      },
      "text/plain": [
       "HBox(children=(IntProgress(value=0, max=250), HTML(value='')))"
      ]
     },
     "metadata": {},
     "output_type": "display_data"
    },
    {
     "name": "stdout",
     "output_type": "stream",
     "text": [
      "(22866, 1)\n",
      "(3930, 1)\n"
     ]
    },
    {
     "data": {
      "application/vnd.jupyter.widget-view+json": {
       "model_id": "43e1c085c34d4d7889adad814a2491bf",
       "version_major": 2,
       "version_minor": 0
      },
      "text/plain": [
       "HBox(children=(IntProgress(value=0, max=250), HTML(value='')))"
      ]
     },
     "metadata": {},
     "output_type": "display_data"
    },
    {
     "name": "stdout",
     "output_type": "stream",
     "text": [
      "(22865, 1)\n",
      "(3929, 1)\n"
     ]
    },
    {
     "data": {
      "application/vnd.jupyter.widget-view+json": {
       "model_id": "370fd24d0381484d8337cc83d1394e4f",
       "version_major": 2,
       "version_minor": 0
      },
      "text/plain": [
       "HBox(children=(IntProgress(value=0, max=250), HTML(value='')))"
      ]
     },
     "metadata": {},
     "output_type": "display_data"
    },
    {
     "name": "stdout",
     "output_type": "stream",
     "text": [
      "(22864, 1)\n",
      "(3928, 1)\n"
     ]
    },
    {
     "data": {
      "application/vnd.jupyter.widget-view+json": {
       "model_id": "3ba2dbe890034949890a91d8203bbd29",
       "version_major": 2,
       "version_minor": 0
      },
      "text/plain": [
       "HBox(children=(IntProgress(value=0, max=250), HTML(value='')))"
      ]
     },
     "metadata": {},
     "output_type": "display_data"
    },
    {
     "name": "stdout",
     "output_type": "stream",
     "text": [
      "(22863, 1)\n",
      "(3927, 1)\n"
     ]
    },
    {
     "data": {
      "application/vnd.jupyter.widget-view+json": {
       "model_id": "050869719d594de2a70bdd9d6622f599",
       "version_major": 2,
       "version_minor": 0
      },
      "text/plain": [
       "HBox(children=(IntProgress(value=0, max=250), HTML(value='')))"
      ]
     },
     "metadata": {},
     "output_type": "display_data"
    },
    {
     "name": "stdout",
     "output_type": "stream",
     "text": [
      "(22862, 1)\n",
      "(3926, 1)\n"
     ]
    },
    {
     "data": {
      "application/vnd.jupyter.widget-view+json": {
       "model_id": "74f7521806bd4f40a74bbc868c0b2acf",
       "version_major": 2,
       "version_minor": 0
      },
      "text/plain": [
       "HBox(children=(IntProgress(value=0, max=250), HTML(value='')))"
      ]
     },
     "metadata": {},
     "output_type": "display_data"
    },
    {
     "name": "stdout",
     "output_type": "stream",
     "text": [
      "(22861, 1)\n",
      "(3925, 1)\n"
     ]
    },
    {
     "data": {
      "application/vnd.jupyter.widget-view+json": {
       "model_id": "e1335b8cdace4e8c8056740713ba0859",
       "version_major": 2,
       "version_minor": 0
      },
      "text/plain": [
       "HBox(children=(IntProgress(value=0, max=250), HTML(value='')))"
      ]
     },
     "metadata": {},
     "output_type": "display_data"
    },
    {
     "name": "stdout",
     "output_type": "stream",
     "text": [
      "(22860, 1)\n",
      "(3924, 1)\n"
     ]
    },
    {
     "data": {
      "application/vnd.jupyter.widget-view+json": {
       "model_id": "a443b479087c42569d2aaae709293d48",
       "version_major": 2,
       "version_minor": 0
      },
      "text/plain": [
       "HBox(children=(IntProgress(value=0, max=250), HTML(value='')))"
      ]
     },
     "metadata": {},
     "output_type": "display_data"
    },
    {
     "name": "stdout",
     "output_type": "stream",
     "text": [
      "check point at 2019-07-27 10:48:07.554681\n",
      "training : 臺中\n"
     ]
    },
    {
     "data": {
      "application/vnd.jupyter.widget-view+json": {
       "model_id": "deb43b2dd6504de6b57d2dde587f36ca",
       "version_major": 2,
       "version_minor": 0
      },
      "text/plain": [
       "HBox(children=(IntProgress(value=0, max=24), HTML(value='')))"
      ]
     },
     "metadata": {},
     "output_type": "display_data"
    },
    {
     "ename": "FileNotFoundError",
     "evalue": "[Errno 2] No such file or directory: 'pickles/臺中2017trainRaw.pickle'",
     "output_type": "error",
     "traceback": [
      "\u001b[1;31m---------------------------------------------------------------------------\u001b[0m",
      "\u001b[1;31mFileNotFoundError\u001b[0m                         Traceback (most recent call last)",
      "\u001b[1;32m<ipython-input-20-28885ea04bb9>\u001b[0m in \u001b[0;36m<module>\u001b[1;34m\u001b[0m\n\u001b[0;32m    133\u001b[0m     \u001b[1;32mfor\u001b[0m \u001b[0mwindowSize\u001b[0m \u001b[1;32min\u001b[0m \u001b[0mtqdm\u001b[0m\u001b[1;33m(\u001b[0m\u001b[0mrange\u001b[0m\u001b[1;33m(\u001b[0m\u001b[1;36m7\u001b[0m\u001b[1;33m,\u001b[0m\u001b[1;36m31\u001b[0m\u001b[1;33m)\u001b[0m\u001b[1;33m)\u001b[0m\u001b[1;33m:\u001b[0m\u001b[1;33m\u001b[0m\u001b[0m\n\u001b[0;32m    134\u001b[0m         \u001b[0mmodel\u001b[0m \u001b[1;33m=\u001b[0m \u001b[0mbuildModel\u001b[0m\u001b[1;33m(\u001b[0m\u001b[1;33m)\u001b[0m\u001b[1;33m\u001b[0m\u001b[0m\n\u001b[1;32m--> 135\u001b[1;33m         \u001b[0mmse\u001b[0m\u001b[1;33m,\u001b[0m\u001b[0mmae\u001b[0m \u001b[1;33m=\u001b[0m \u001b[0mtrain\u001b[0m\u001b[1;33m(\u001b[0m\u001b[0mmodel\u001b[0m\u001b[1;33m,\u001b[0m\u001b[0mepochs\u001b[0m\u001b[1;33m,\u001b[0m\u001b[0mwindowSize\u001b[0m\u001b[1;33m,\u001b[0m\u001b[0mstation\u001b[0m\u001b[1;33m)\u001b[0m\u001b[1;33m\u001b[0m\u001b[0m\n\u001b[0m\u001b[0;32m    136\u001b[0m         \u001b[0mMSEs\u001b[0m\u001b[1;33m.\u001b[0m\u001b[0mappend\u001b[0m\u001b[1;33m(\u001b[0m\u001b[0mmse\u001b[0m\u001b[1;33m)\u001b[0m\u001b[1;33m\u001b[0m\u001b[0m\n\u001b[0;32m    137\u001b[0m         \u001b[0mMAEs\u001b[0m\u001b[1;33m.\u001b[0m\u001b[0mappend\u001b[0m\u001b[1;33m(\u001b[0m\u001b[0mmae\u001b[0m\u001b[1;33m)\u001b[0m\u001b[1;33m\u001b[0m\u001b[0m\n",
      "\u001b[1;32m<ipython-input-20-28885ea04bb9>\u001b[0m in \u001b[0;36mtrain\u001b[1;34m(model, epochs, windowSize, station)\u001b[0m\n\u001b[0;32m    105\u001b[0m \u001b[1;32mdef\u001b[0m \u001b[0mtrain\u001b[0m\u001b[1;33m(\u001b[0m\u001b[0mmodel\u001b[0m\u001b[1;33m,\u001b[0m\u001b[0mepochs\u001b[0m\u001b[1;33m,\u001b[0m\u001b[0mwindowSize\u001b[0m\u001b[1;33m,\u001b[0m\u001b[0mstation\u001b[0m\u001b[1;33m)\u001b[0m\u001b[1;33m:\u001b[0m\u001b[1;33m\u001b[0m\u001b[0m\n\u001b[0;32m    106\u001b[0m \u001b[1;33m\u001b[0m\u001b[0m\n\u001b[1;32m--> 107\u001b[1;33m     \u001b[0msc\u001b[0m\u001b[1;33m,\u001b[0m \u001b[0mX_train\u001b[0m\u001b[1;33m,\u001b[0m \u001b[0my_train\u001b[0m\u001b[1;33m,\u001b[0m \u001b[0mX_test\u001b[0m\u001b[1;33m,\u001b[0m \u001b[0my_test\u001b[0m \u001b[1;33m=\u001b[0m \u001b[0mfetchData\u001b[0m\u001b[1;33m(\u001b[0m\u001b[0mstation\u001b[0m\u001b[1;33m,\u001b[0m\u001b[0mwindowSize\u001b[0m\u001b[1;33m)\u001b[0m\u001b[1;33m\u001b[0m\u001b[0m\n\u001b[0m\u001b[0;32m    108\u001b[0m \u001b[1;33m\u001b[0m\u001b[0m\n\u001b[0;32m    109\u001b[0m \u001b[1;33m\u001b[0m\u001b[0m\n",
      "\u001b[1;32m<ipython-input-20-28885ea04bb9>\u001b[0m in \u001b[0;36mfetchData\u001b[1;34m(station, windowSize)\u001b[0m\n\u001b[0;32m     95\u001b[0m \u001b[1;32mdef\u001b[0m \u001b[0mfetchData\u001b[0m\u001b[1;33m(\u001b[0m\u001b[0mstation\u001b[0m\u001b[1;33m,\u001b[0m\u001b[0mwindowSize\u001b[0m\u001b[1;33m)\u001b[0m\u001b[1;33m:\u001b[0m\u001b[1;33m\u001b[0m\u001b[0m\n\u001b[0;32m     96\u001b[0m \u001b[1;33m\u001b[0m\u001b[0m\n\u001b[1;32m---> 97\u001b[1;33m     \u001b[1;32mwith\u001b[0m \u001b[0mopen\u001b[0m\u001b[1;33m(\u001b[0m\u001b[1;34m'pickles/'\u001b[0m\u001b[1;33m+\u001b[0m\u001b[0mstation\u001b[0m\u001b[1;33m+\u001b[0m\u001b[1;34m'2017trainRaw.pickle'\u001b[0m\u001b[1;33m,\u001b[0m \u001b[1;34m'rb'\u001b[0m\u001b[1;33m)\u001b[0m \u001b[1;32mas\u001b[0m \u001b[0mhandle\u001b[0m\u001b[1;33m:\u001b[0m\u001b[1;33m\u001b[0m\u001b[0m\n\u001b[0m\u001b[0;32m     98\u001b[0m         \u001b[0mtrainRawData\u001b[0m \u001b[1;33m=\u001b[0m \u001b[0mpickle\u001b[0m\u001b[1;33m.\u001b[0m\u001b[0mload\u001b[0m\u001b[1;33m(\u001b[0m\u001b[0mhandle\u001b[0m\u001b[1;33m)\u001b[0m\u001b[1;33m\u001b[0m\u001b[0m\n\u001b[0;32m     99\u001b[0m     \u001b[1;32mwith\u001b[0m \u001b[0mopen\u001b[0m\u001b[1;33m(\u001b[0m\u001b[1;34m'pickles/'\u001b[0m\u001b[1;33m+\u001b[0m\u001b[0mstation\u001b[0m\u001b[1;33m+\u001b[0m\u001b[1;34m'2017testRaw.pickle'\u001b[0m\u001b[1;33m,\u001b[0m \u001b[1;34m'rb'\u001b[0m\u001b[1;33m)\u001b[0m \u001b[1;32mas\u001b[0m \u001b[0mhandle\u001b[0m\u001b[1;33m:\u001b[0m\u001b[1;33m\u001b[0m\u001b[0m\n",
      "\u001b[1;31mFileNotFoundError\u001b[0m: [Errno 2] No such file or directory: 'pickles/臺中2017trainRaw.pickle'"
     ]
    }
   ],
   "source": [
    "import numpy as np\n",
    "import math\n",
    "import matplotlib.pyplot as plt  \n",
    "from sklearn.metrics import mean_squared_error,mean_absolute_error\n",
    "import pandas as pd\n",
    "\n",
    "from keras.models import Sequential\n",
    "from keras.layers import Dense\n",
    "from keras.layers import LSTM, Bidirectional \n",
    "from keras.layers import Dropout\n",
    "from keras.callbacks import EarlyStopping\n",
    "\n",
    "import sys\n",
    "import xlwt\n",
    "from sklearn.preprocessing import MinMaxScaler\n",
    "import datetime,pickle,os,glob\n",
    "\n",
    "from tqdm import tqdm_notebook as tqdm\n",
    "\n",
    "def getStationList():\n",
    "    with open('pickles/stationList.pickle', 'rb') as handle:\n",
    "        stationList = pickle.load(handle)\n",
    "    os.chdir('excelFiles/LSTM')\n",
    "    replaceDict = ['.xls','LSTMresult-']\n",
    "    for direct in glob.glob(\"*.xls\"):\n",
    "        fileName = direct                                               \n",
    "        for w in replaceDict:\n",
    "            fileName = fileName.replace(w,'')\n",
    "        \n",
    "        if fileName in stationList:\n",
    "            stationList.remove(fileName)\n",
    "            print(fileName)\n",
    "    os.chdir('../..')\n",
    "    partStation = ['忠明','臺南','鳳山','花蓮']\n",
    "    return partStation\n",
    "def transfromData(trainRaw, testRaw,windowSize):  ##Train ratial, train, test\n",
    "    sc = MinMaxScaler(feature_range = (0, 1))\n",
    "\n",
    "    npTrain = sc.fit_transform(np.array(trainRaw).reshape(-1,1))\n",
    "    npTest = sc.fit_transform(np.array(testRaw).reshape(-1,1))\n",
    "    \n",
    "    X_train, y_train = splitXy(npTrain,windowSize)\n",
    "    X_test, y_test = splitXy(npTest,windowSize)\n",
    "    return sc, X_train, y_train, X_test, y_test\n",
    "\n",
    "def splitXy(data, windowSize):\n",
    "    windows = []\n",
    "    for i in range(6, data.shape[0]-windowSize):\n",
    "        a_data = data[i-6:i, 0].tolist()\n",
    "        a_data.append(data[i+windowSize-7])\n",
    "        windows.append(a_data)\n",
    "    np.random.shuffle(windows)\n",
    "    X = []\n",
    "    y = []\n",
    "    for i in range(len(windows)):\n",
    "        X.append(windows[i][:6])\n",
    "        y.append(windows[i][-1:][0])\n",
    "    X, y = np.array(X), np.array(y)\n",
    "    print(y.shape)\n",
    "    X = np.reshape(X, (X.shape[0], X.shape[1], 1))\n",
    "    return X,y\n",
    "def buildModel():\n",
    "    regressor = Sequential()\n",
    "    #regressor.add(Bidirectional(LSTM(units=50,return_sequences=True),input_shape = (X_train.shape[1], 1)))\n",
    "    regressor.add(LSTM (units = 50, return_sequences = True, input_shape = (6, 1)))\n",
    "    regressor.add(Dropout(0.2))\n",
    "    regressor.add(LSTM (units = 50,return_sequences=True))\n",
    "    regressor.add(Dropout(0.2))\n",
    "    regressor.add(LSTM (units = 50))\n",
    "    regressor.add(Dropout(0.2))\n",
    "    regressor.add(Dense(units = 1))\n",
    "    # Compiling\n",
    "    regressor.compile(optimizer = 'adam', loss = 'mean_squared_error')\n",
    "    return regressor\n",
    "\n",
    "\n",
    "def Visualize():\n",
    "    predicted = sc.inverse_transform(regressor.predict(X_test))\n",
    "    originY = sc.inverse_transform (y_test)\n",
    "    print(\"MSE : [\"+str(mean_squared_error(predicted, originY))+\"]\")\n",
    "    # Visualising the results\n",
    "    plt.plot(originY[:100], color = 'red', label = 'Real')  \n",
    "    plt.plot(predicted[:100], color = 'blue', label = 'Predicted ') \n",
    "    plt.legend()\n",
    "    plt.show()\n",
    "def writeExcelHead(sheet1,epochs,station):\n",
    "    sheet1.write(0,1,station)\n",
    "    raw = 1\n",
    "    for e in range(epochs):\n",
    "        sheet1.write(raw,0,e+1)\n",
    "        raw+=1\n",
    "\n",
    "##get data##\n",
    "\n",
    "def fetchData(station,windowSize):\n",
    "\n",
    "    with open('pickles/'+station+'2017trainRaw.pickle', 'rb') as handle:\n",
    "        trainRawData = pickle.load(handle)\n",
    "    with open('pickles/'+station+'2017testRaw.pickle', 'rb') as handle:\n",
    "        testRawData = pickle.load(handle)\n",
    "        \n",
    "    sc, X_train, y_train, X_test, y_test = transfromData(trainRawData,testRawData,windowSize)\n",
    "    return sc, X_train, y_train, X_test, y_test\n",
    "\n",
    "def train(model,epochs,windowSize,station):\n",
    "    \n",
    "    sc, X_train, y_train, X_test, y_test = fetchData(station,windowSize)\n",
    "\n",
    "    \n",
    "    for i in tqdm(range(epochs)):\n",
    "        model.fit(X_train, y_train,validation_split=0.2, epochs = 1, batch_size = 32,verbose=0)\n",
    "\n",
    "        \n",
    "    predicted = sc.inverse_transform(model.predict(X_test))\n",
    "    originY = sc.inverse_transform (y_test)\n",
    "       \n",
    "    mse = mean_squared_error(predicted, originY)\n",
    "    mae = mean_absolute_error(predicted,originY)\n",
    "\n",
    "    model.save('model/LSTM/LSTM'+station+str(windowSize-6)+'.h5')\n",
    "    return mse,mae\n",
    "\n",
    "\n",
    "\n",
    "\n",
    "epochs = 250\n",
    "stationList = getStationList()\n",
    "col=1\n",
    "for station in tqdm(stationList):\n",
    "    print(\"training : \" +station)\n",
    "    MSEs = []\n",
    "    MAEs = []\n",
    "    for windowSize in tqdm(range(7,31)):\n",
    "        model = buildModel()\n",
    "        mse,mae = train(model,epochs,windowSize,station)\n",
    "        MSEs.append(mse)\n",
    "        MAEs.append(mae)\n",
    "        \n",
    "    book = xlwt.Workbook(encoding=\"utf-8\")\n",
    "    sheet1 = book.add_sheet(\"Sheet1\")\n",
    "    writeExcelHead(sheet1,epochs,station)\n",
    "    row = 1\n",
    "    for m in MSEs:\n",
    "        sheet1.write(row,1,m)\n",
    "        row+=1\n",
    "    row = 1\n",
    "    for m in MAEs:\n",
    "        sheet1.write(row,2,m)\n",
    "        row+=1\n",
    "    book.save(\"excelFiles/LSTM/LSTMresult-\"+station+\".xls\")\n",
    "        \n",
    "    print('check point at ' + str(datetime.datetime.now()))\n",
    "\n",
    "\n",
    "\n",
    "\n"
   ]
  },
  {
   "cell_type": "code",
   "execution_count": 19,
   "metadata": {},
   "outputs": [
    {
     "data": {
      "text/plain": [
       "['二林',\n",
       " '南投',\n",
       " '埔里',\n",
       " '大里',\n",
       " '彰化',\n",
       " '忠明',\n",
       " '沙鹿',\n",
       " '竹山',\n",
       " '線西',\n",
       " '西屯',\n",
       " '豐原',\n",
       " '三重',\n",
       " '中壢',\n",
       " '中山',\n",
       " '古亭',\n",
       " '土城',\n",
       " '基隆',\n",
       " '士林',\n",
       " '大同',\n",
       " '大園',\n",
       " '平鎮',\n",
       " '新店',\n",
       " '新莊',\n",
       " '板橋',\n",
       " '林口',\n",
       " '桃園',\n",
       " '永和',\n",
       " '汐止',\n",
       " '淡水',\n",
       " '菜寮',\n",
       " '萬華',\n",
       " '萬里',\n",
       " '觀音',\n",
       " '陽明',\n",
       " '龍潭',\n",
       " '冬山',\n",
       " '宜蘭',\n",
       " '三義',\n",
       " '新竹',\n",
       " '湖口',\n",
       " '竹東',\n",
       " '苗栗',\n",
       " '頭份',\n",
       " '臺東',\n",
       " '花蓮',\n",
       " '關山',\n",
       " '金門',\n",
       " '馬公',\n",
       " '馬祖',\n",
       " '臺南',\n",
       " '臺西',\n",
       " '善化',\n",
       " '嘉義',\n",
       " '安南',\n",
       " '崙背',\n",
       " '斗六',\n",
       " '新港',\n",
       " '新營',\n",
       " '朴子',\n",
       " '麥寮',\n",
       " '仁武',\n",
       " '前金',\n",
       " '前鎮',\n",
       " '大寮',\n",
       " '小港',\n",
       " '屏東',\n",
       " '左營',\n",
       " '復興',\n",
       " '恆春',\n",
       " '林園',\n",
       " '楠梓',\n",
       " '橋頭',\n",
       " '潮州',\n",
       " '美濃',\n",
       " '鳳山']"
      ]
     },
     "execution_count": 19,
     "metadata": {},
     "output_type": "execute_result"
    }
   ],
   "source": [
    "stationList"
   ]
  },
  {
   "cell_type": "code",
   "execution_count": null,
   "metadata": {},
   "outputs": [],
   "source": [
    "#基隆 松山 淡水 新竹 苗栗 台中 台南 高雄 屏東 花蓮 宜蘭"
   ]
  },
  {
   "cell_type": "code",
   "execution_count": null,
   "metadata": {},
   "outputs": [],
   "source": [
    "    key_list = ['松山','忠明','臺南','鳳山','花蓮']"
   ]
  }
 ],
 "metadata": {
  "kernelspec": {
   "display_name": "Python 3",
   "language": "python",
   "name": "python3"
  },
  "language_info": {
   "codemirror_mode": {
    "name": "ipython",
    "version": 3
   },
   "file_extension": ".py",
   "mimetype": "text/x-python",
   "name": "python",
   "nbconvert_exporter": "python",
   "pygments_lexer": "ipython3",
   "version": "3.6.5"
  }
 },
 "nbformat": 4,
 "nbformat_minor": 2
}
