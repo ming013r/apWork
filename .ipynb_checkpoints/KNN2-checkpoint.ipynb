{
 "cells": [
  {
   "cell_type": "code",
   "execution_count": 5,
   "metadata": {},
   "outputs": [],
   "source": [
    "#get data  & function definition\n",
    "import numpy as np\n",
    "import math\n",
    "import matplotlib.pyplot as plt  \n",
    "from sklearn.metrics import mean_squared_error\n",
    "import os, glob\n",
    "import MySQLdb\n",
    "from sklearn.preprocessing import MinMaxScaler\n",
    "import datetime\n",
    "from sklearn.metrics import mean_squared_error\n",
    "import pickle\n",
    "\n",
    "from tslearn.generators import random_walk_blobs\n",
    "from tslearn.preprocessing import TimeSeriesScalerMinMax, to_time_series_dataset\n",
    "from tslearn.neighbors import KNeighborsTimeSeriesClassifier, KNeighborsTimeSeries\n",
    "from tslearn.piecewise import SymbolicAggregateApproximation\n",
    "\n",
    "def getStationList(cursor):\n",
    "    stationList = []\n",
    "    \n",
    "    queryString = \"SELECT distinct station from cleandata\"\n",
    "    cursor.execute(queryString)\n",
    "    results = cursor.fetchall()\n",
    "    for row in results :\n",
    "        val = str(row).strip(\"',()\")\n",
    "        stationList.append(val)\n",
    "    stationList.remove('富貴角')\n",
    "    #stationList.remove('二林')\n",
    "    return stationList\n",
    "\n",
    "\n",
    "def transformData(rawData): \n",
    "    sc = MinMaxScaler(feature_range = (0, 1))\n",
    "    npRaw = np.array(rawData)\n",
    "    scaledData = sc.fit_transform(npRaw.reshape(-1,1))\n",
    "    return scaledData\n",
    "\n",
    "def getStationData(results, targetResult):\n",
    "    currentDays = getDayOnly(results)\n",
    "    targetdays = getDayOnly(targetResult)\n",
    "    days = []\n",
    "    for i in currentDays:\n",
    "        if i in targetdays:\n",
    "            days.append(i)\n",
    "            \n",
    "    currentData = []\n",
    "    for day in results:\n",
    "        if day[0] in days:\n",
    "            for i in range(3,27):  \n",
    "                currentData.append(float(day[i]))\n",
    "    targetData = []\n",
    "    for day in targetResult:\n",
    "        if day[0] in days:\n",
    "            for i in range(3,27):\n",
    "                targetData.append(float(day[i]))\n",
    "                \n",
    "    return targetData, currentData\n",
    "def getDayOnly(data):\n",
    "    days = []\n",
    "    for day in data:\n",
    "        if '2017' not in day:\n",
    "            days.append(day[0])\n",
    "    return days\n",
    "def fetchTrainData(targetStation, currentStation, cursor):\n",
    "    #print('start fetching.....')\n",
    "    trainData =[]\n",
    "    stationList = getStationList(cursor)\n",
    "    queryString = \"SELECT * from cleandata where station='\"+targetStation+\"' and item = 'PM2.5' \"\n",
    "    cursor.execute(queryString)\n",
    "    targetResult = cursor.fetchall()\n",
    "    \n",
    "\n",
    "    queryString = \"SELECT * from cleandata where station='\"+currentStation+\"' and item = 'PM2.5' \"\n",
    "    cursor.execute(queryString)\n",
    "    results = cursor.fetchall()\n",
    "\n",
    "    targetData, currentData = getStationData(results, targetResult)\n",
    "        \n",
    "    trainData.append(currentData)\n",
    "    return trainData, targetData\n",
    "    print('fetch finish')"
   ]
  },
  {
   "cell_type": "code",
   "execution_count": null,
   "metadata": {},
   "outputs": [
    {
     "name": "stdout",
     "output_type": "stream",
     "text": [
      "start  :2019-04-04 11:44:31.120848\n",
      "running...\n",
      "processing : 二林 Station  0/80\n",
      "---------------------------------------------\n"
     ]
    }
   ],
   "source": [
    "print('start  :' + str(datetime.datetime.now()))\n",
    "print('running...')\n",
    "db=MySQLdb.connect(host=\"localhost\",user=\"root\", passwd=\"swater0\", db=\"airdb\", charset=\"utf8\")\n",
    "cursor = db.cursor()\n",
    "stationList = getStationList(cursor)\n",
    "targetList = getStationList(cursor)\n",
    "targetList.remove('二林')\n",
    "totalList = []\n",
    "count = 0\n",
    "for targetStation in targetList:\n",
    "    print('processing : '+ targetStation+' Station  '+str(count)+'/80')\n",
    "    print('---------------------------------------------')\n",
    "    count += 1\n",
    "    aStationList = []\n",
    "    for currentStation in stationList:\n",
    "        if currentStation != targetStation:\n",
    "            Xtrain, targetData = fetchTrainData(targetStation, currentStation, cursor)\n",
    "            time_series = to_time_series_dataset(Xtrain)\n",
    "            knn = KNeighborsTimeSeries(n_neighbors=1).fit(time_series)\n",
    "        \n",
    "            dist, ind = knn.kneighbors(to_time_series_dataset(targetData), return_distance=True)\n",
    "\n",
    "            aStationList.append(dist)\n",
    "            print('check point at ' + str(datetime.datetime.now()))\n",
    "            \n",
    "    with open('pickles/'+targetStation+'.pkl', 'wb') as f:\n",
    "        pickle.dump(aStationList, f)\n",
    "    print('stop : ' + str(datetime.datetime.now()))\n",
    "db.close()"
   ]
  },
  {
   "cell_type": "code",
   "execution_count": 4,
   "metadata": {},
   "outputs": [
    {
     "ename": "NameError",
     "evalue": "name 'days' is not defined",
     "output_type": "error",
     "traceback": [
      "\u001b[1;31m---------------------------------------------------------------------------\u001b[0m",
      "\u001b[1;31mNameError\u001b[0m                                 Traceback (most recent call last)",
      "\u001b[1;32m<ipython-input-4-e4815771e344>\u001b[0m in \u001b[0;36m<module>\u001b[1;34m\u001b[0m\n\u001b[1;32m----> 1\u001b[1;33m \u001b[0mdays\u001b[0m\u001b[1;33m\u001b[0m\u001b[0m\n\u001b[0m",
      "\u001b[1;31mNameError\u001b[0m: name 'days' is not defined"
     ]
    }
   ],
   "source": [
    "days"
   ]
  },
  {
   "cell_type": "code",
   "execution_count": 124,
   "metadata": {},
   "outputs": [
    {
     "name": "stdout",
     "output_type": "stream",
     "text": [
      "77\n"
     ]
    }
   ],
   "source": [
    "ls = getStationList(cursor)\n",
    "if '台東' in "
   ]
  },
  {
   "cell_type": "code",
   "execution_count": null,
   "metadata": {},
   "outputs": [],
   "source": []
  }
 ],
 "metadata": {
  "kernelspec": {
   "display_name": "Python 3",
   "language": "python",
   "name": "python3"
  },
  "language_info": {
   "codemirror_mode": {
    "name": "ipython",
    "version": 3
   },
   "file_extension": ".py",
   "mimetype": "text/x-python",
   "name": "python",
   "nbconvert_exporter": "python",
   "pygments_lexer": "ipython3",
   "version": "3.6.5"
  }
 },
 "nbformat": 4,
 "nbformat_minor": 2
}
