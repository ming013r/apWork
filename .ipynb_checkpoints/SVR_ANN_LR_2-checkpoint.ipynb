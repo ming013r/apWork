{
 "cells": [
  {
   "cell_type": "code",
   "execution_count": 10,
   "metadata": {},
   "outputs": [],
   "source": [
    "import numpy as np\n",
    "import math\n",
    "import matplotlib.pyplot as plt  \n",
    "from sklearn.metrics import mean_squared_error\n",
    "\n",
    "windosSize = 10\n",
    "\n",
    "\n",
    "def transfromData(ratial, rawData):  ##Train ratial, train, test\n",
    "    sc = MinMaxScaler(feature_range = (0, 1))\n",
    "    npRaw = np.array(rawData)\n",
    "    scaledData = sc.fit_transform(npRaw.reshape(-1,1))\n",
    "    \n",
    "    trainCount = math.floor((ratial / 100.0) * len(scaledData))\n",
    "    testCount = len(scaledData) - trainCount\n",
    "    \n",
    "    trainData = np.array(scaledData[:trainCount]).reshape(-1,1)##train \n",
    "    testData = np.array(scaledData[-testCount:]).reshape(-1,1)\n",
    "    \n",
    "    X_train, y_train = splitXy(trainData)\n",
    "    X_test, y_test = splitXy(testData)\n",
    "    return sc, X_train, y_train, X_test, y_test\n",
    "\n",
    "def splitXy(data):\n",
    "    windows = []\n",
    "    for i in range(windosSize, data.shape[0]):\n",
    "        windows.append(data[i-windosSize:i, 0])\n",
    "    np.random.shuffle(windows)\n",
    "    X = []\n",
    "    y = []\n",
    "    for i in range(len(windows)):\n",
    "        X.append(windows[i][:windosSize-1])\n",
    "        y.append(windows[i][-1:])\n",
    "    X, y = np.array(X), np.array(y)\n",
    "    return X,y"
   ]
  },
  {
   "cell_type": "code",
   "execution_count": 11,
   "metadata": {},
   "outputs": [],
   "source": [
    "\n",
    "##get data##\n",
    "import MySQLdb\n",
    "import numpy as np\n",
    "from sklearn.preprocessing import MinMaxScaler\n",
    "\n",
    "db=MySQLdb.connect(host=\"localhost\",user=\"root\", passwd=\"swater0\", db=\"airdb\", charset=\"utf8\")\n",
    "cursor = db.cursor()\n",
    "queryString = \"SELECT * from cleandata where station='二林' and item = 'PM2.5'\"\n",
    "data = cursor.execute(queryString)\n",
    "results = cursor.fetchall()\n",
    "\n",
    "\n",
    "#original value\n",
    "rawData = []\n",
    "for row in results:\n",
    "    for i in range(3,27):\n",
    "        rawData.append(float(row[i]))\n",
    "#difference value\n",
    "d_rawData = []\n",
    "for i in range(1,len(rawData)):\n",
    "    d_rawData.append(rawData[i]-rawData[i-1])\n",
    "\n",
    "sc, X_train, y_train, X_test, y_test = transfromData(70.0,rawData)\n"
   ]
  },
  {
   "cell_type": "code",
   "execution_count": 18,
   "metadata": {},
   "outputs": [
    {
     "name": "stdout",
     "output_type": "stream",
     "text": [
      "trained\n"
     ]
    }
   ],
   "source": [
    "###############################\n",
    "###Support Vector Regression###\n",
    "###############################\n",
    "from sklearn.svm import SVR\n",
    "import numpy as np\n",
    "from sklearn.metrics import mean_squared_error\n",
    "\n",
    "clf = SVR(gamma='scale', C=1.0, epsilon=0.2)\n",
    "clf.fit(X_train, y_train.ravel())\n",
    "print('finish')\n",
    "predicted_SVR = sc.inverse_transform(clf.predict(X_test).reshape(-1,1))"
   ]
  },
  {
   "cell_type": "code",
   "execution_count": 9,
   "metadata": {},
   "outputs": [
    {
     "name": "stderr",
     "output_type": "stream",
     "text": [
      "Using TensorFlow backend.\n"
     ]
    },
    {
     "name": "stdout",
     "output_type": "stream",
     "text": [
      "_________________________________________________________________\n",
      "Layer (type)                 Output Shape              Param #   \n",
      "=================================================================\n",
      "dnn_1_input (InputLayer)     (None, 6)                 0         \n",
      "_________________________________________________________________\n",
      "dnn_1 (Dense)                (None, 128)               896       \n",
      "_________________________________________________________________\n",
      "dnn_2 (Dense)                (None, 64)                8256      \n",
      "_________________________________________________________________\n",
      "dnn_3 (Dense)                (None, 32)                2080      \n",
      "_________________________________________________________________\n",
      "dnn_4 (Dense)                (None, 1)                 33        \n",
      "=================================================================\n",
      "Total params: 11,265\n",
      "Trainable params: 11,265\n",
      "Non-trainable params: 0\n",
      "_________________________________________________________________\n"
     ]
    },
    {
     "ename": "ValueError",
     "evalue": "Error when checking input: expected dnn_1_input to have 2 dimensions, but got array with shape (18957, 9, 1)",
     "output_type": "error",
     "traceback": [
      "\u001b[1;31m---------------------------------------------------------------------------\u001b[0m",
      "\u001b[1;31mValueError\u001b[0m                                Traceback (most recent call last)",
      "\u001b[1;32m<ipython-input-9-fb51a941dc3d>\u001b[0m in \u001b[0;36m<module>\u001b[1;34m\u001b[0m\n\u001b[0;32m     23\u001b[0m \u001b[1;33m\u001b[0m\u001b[0m\n\u001b[0;32m     24\u001b[0m \u001b[0mMmodel\u001b[0m \u001b[1;33m=\u001b[0m \u001b[0mbuild_dnn_hidden0_dim128\u001b[0m\u001b[1;33m(\u001b[0m\u001b[1;33m)\u001b[0m\u001b[1;33m\u001b[0m\u001b[0m\n\u001b[1;32m---> 25\u001b[1;33m \u001b[0mMmodel\u001b[0m\u001b[1;33m.\u001b[0m\u001b[0mfit\u001b[0m\u001b[1;33m(\u001b[0m\u001b[0mx\u001b[0m\u001b[1;33m=\u001b[0m\u001b[0mX_train\u001b[0m\u001b[1;33m,\u001b[0m\u001b[0my\u001b[0m\u001b[1;33m=\u001b[0m\u001b[0my_train\u001b[0m\u001b[1;33m,\u001b[0m\u001b[0mvalidation_split\u001b[0m\u001b[1;33m=\u001b[0m\u001b[1;36m0.2\u001b[0m\u001b[1;33m,\u001b[0m\u001b[0mepochs\u001b[0m\u001b[1;33m=\u001b[0m\u001b[1;36m500\u001b[0m\u001b[1;33m,\u001b[0m\u001b[0mbatch_size\u001b[0m\u001b[1;33m=\u001b[0m\u001b[1;36m32\u001b[0m\u001b[1;33m,\u001b[0m\u001b[0mverbose\u001b[0m\u001b[1;33m=\u001b[0m\u001b[1;36m2\u001b[0m\u001b[1;33m,\u001b[0m\u001b[0mcallbacks\u001b[0m\u001b[1;33m=\u001b[0m\u001b[1;33m[\u001b[0m\u001b[0mearly_stopping\u001b[0m\u001b[1;33m]\u001b[0m\u001b[1;33m)\u001b[0m\u001b[1;33m\u001b[0m\u001b[0m\n\u001b[0m\u001b[0;32m     26\u001b[0m \u001b[0mpredicted_ANN\u001b[0m \u001b[1;33m=\u001b[0m \u001b[0msc\u001b[0m\u001b[1;33m.\u001b[0m\u001b[0minverse_transform\u001b[0m\u001b[1;33m(\u001b[0m\u001b[0mMmodel\u001b[0m\u001b[1;33m.\u001b[0m\u001b[0mpredict\u001b[0m\u001b[1;33m(\u001b[0m\u001b[0mX_test\u001b[0m\u001b[1;33m)\u001b[0m\u001b[1;33m)\u001b[0m\u001b[1;33m\u001b[0m\u001b[0m\n",
      "\u001b[1;32mc:\\users\\ming\\appdata\\local\\programs\\python\\python36\\lib\\site-packages\\keras\\engine\\training.py\u001b[0m in \u001b[0;36mfit\u001b[1;34m(self, x, y, batch_size, epochs, verbose, callbacks, validation_split, validation_data, shuffle, class_weight, sample_weight, initial_epoch, steps_per_epoch, validation_steps, **kwargs)\u001b[0m\n\u001b[0;32m    950\u001b[0m             \u001b[0msample_weight\u001b[0m\u001b[1;33m=\u001b[0m\u001b[0msample_weight\u001b[0m\u001b[1;33m,\u001b[0m\u001b[1;33m\u001b[0m\u001b[0m\n\u001b[0;32m    951\u001b[0m             \u001b[0mclass_weight\u001b[0m\u001b[1;33m=\u001b[0m\u001b[0mclass_weight\u001b[0m\u001b[1;33m,\u001b[0m\u001b[1;33m\u001b[0m\u001b[0m\n\u001b[1;32m--> 952\u001b[1;33m             batch_size=batch_size)\n\u001b[0m\u001b[0;32m    953\u001b[0m         \u001b[1;31m# Prepare validation data.\u001b[0m\u001b[1;33m\u001b[0m\u001b[1;33m\u001b[0m\u001b[0m\n\u001b[0;32m    954\u001b[0m         \u001b[0mdo_validation\u001b[0m \u001b[1;33m=\u001b[0m \u001b[1;32mFalse\u001b[0m\u001b[1;33m\u001b[0m\u001b[0m\n",
      "\u001b[1;32mc:\\users\\ming\\appdata\\local\\programs\\python\\python36\\lib\\site-packages\\keras\\engine\\training.py\u001b[0m in \u001b[0;36m_standardize_user_data\u001b[1;34m(self, x, y, sample_weight, class_weight, check_array_lengths, batch_size)\u001b[0m\n\u001b[0;32m    749\u001b[0m             \u001b[0mfeed_input_shapes\u001b[0m\u001b[1;33m,\u001b[0m\u001b[1;33m\u001b[0m\u001b[0m\n\u001b[0;32m    750\u001b[0m             \u001b[0mcheck_batch_axis\u001b[0m\u001b[1;33m=\u001b[0m\u001b[1;32mFalse\u001b[0m\u001b[1;33m,\u001b[0m  \u001b[1;31m# Don't enforce the batch size.\u001b[0m\u001b[1;33m\u001b[0m\u001b[0m\n\u001b[1;32m--> 751\u001b[1;33m             exception_prefix='input')\n\u001b[0m\u001b[0;32m    752\u001b[0m \u001b[1;33m\u001b[0m\u001b[0m\n\u001b[0;32m    753\u001b[0m         \u001b[1;32mif\u001b[0m \u001b[0my\u001b[0m \u001b[1;32mis\u001b[0m \u001b[1;32mnot\u001b[0m \u001b[1;32mNone\u001b[0m\u001b[1;33m:\u001b[0m\u001b[1;33m\u001b[0m\u001b[0m\n",
      "\u001b[1;32mc:\\users\\ming\\appdata\\local\\programs\\python\\python36\\lib\\site-packages\\keras\\engine\\training_utils.py\u001b[0m in \u001b[0;36mstandardize_input_data\u001b[1;34m(data, names, shapes, check_batch_axis, exception_prefix)\u001b[0m\n\u001b[0;32m    126\u001b[0m                         \u001b[1;34m': expected '\u001b[0m \u001b[1;33m+\u001b[0m \u001b[0mnames\u001b[0m\u001b[1;33m[\u001b[0m\u001b[0mi\u001b[0m\u001b[1;33m]\u001b[0m \u001b[1;33m+\u001b[0m \u001b[1;34m' to have '\u001b[0m \u001b[1;33m+\u001b[0m\u001b[1;33m\u001b[0m\u001b[0m\n\u001b[0;32m    127\u001b[0m                         \u001b[0mstr\u001b[0m\u001b[1;33m(\u001b[0m\u001b[0mlen\u001b[0m\u001b[1;33m(\u001b[0m\u001b[0mshape\u001b[0m\u001b[1;33m)\u001b[0m\u001b[1;33m)\u001b[0m \u001b[1;33m+\u001b[0m \u001b[1;34m' dimensions, but got array '\u001b[0m\u001b[1;33m\u001b[0m\u001b[0m\n\u001b[1;32m--> 128\u001b[1;33m                         'with shape ' + str(data_shape))\n\u001b[0m\u001b[0;32m    129\u001b[0m                 \u001b[1;32mif\u001b[0m \u001b[1;32mnot\u001b[0m \u001b[0mcheck_batch_axis\u001b[0m\u001b[1;33m:\u001b[0m\u001b[1;33m\u001b[0m\u001b[0m\n\u001b[0;32m    130\u001b[0m                     \u001b[0mdata_shape\u001b[0m \u001b[1;33m=\u001b[0m \u001b[0mdata_shape\u001b[0m\u001b[1;33m[\u001b[0m\u001b[1;36m1\u001b[0m\u001b[1;33m:\u001b[0m\u001b[1;33m]\u001b[0m\u001b[1;33m\u001b[0m\u001b[0m\n",
      "\u001b[1;31mValueError\u001b[0m: Error when checking input: expected dnn_1_input to have 2 dimensions, but got array with shape (18957, 9, 1)"
     ]
    }
   ],
   "source": [
    "###############################\n",
    "###Arificial Neural Network####\n",
    "###############################\n",
    "from keras.models import Sequential\n",
    "from keras.layers import Dense,Input\n",
    "from keras.models import Sequential,Model\n",
    "from keras.callbacks import EarlyStopping\n",
    "import numpy\n",
    "\n",
    "def build_dnn_hidden0_dim128():\n",
    "    dnn_1_input = Input(shape=(6,),name='dnn_1_input')\n",
    "    dnn_1 = Dense(128,activation=\"tanh\", name='dnn_1')(dnn_1_input)\n",
    "    dnn_2 = Dense(64,activation=\"tanh\", name='dnn_2')(dnn_1)\n",
    "    dnn_3 = Dense(32,activation=\"tanh\", name='dnn_3')(dnn_2)\n",
    "    dnn_4 = Dense(1, activation='tanh', name='dnn_4')(dnn_3)\n",
    "\n",
    "    model = Model(dnn_1_input,dnn_4)\n",
    "    model.summary()\n",
    "    model.compile(loss='mse',\n",
    "                  optimizer='adam')\n",
    "    return model\n",
    "early_stopping = EarlyStopping(monitor='val_loss', patience=50, verbose=2)\n",
    "\n",
    "Mmodel = build_dnn_hidden0_dim128()\n",
    "Mmodel.fit(x=X_train,y=y_train,validation_split=0.2,epochs=500,batch_size=32,verbose=2,callbacks=[early_stopping])\n",
    "predicted_ANN = sc.inverse_transform(Mmodel.predict(X_test))"
   ]
  },
  {
   "cell_type": "code",
   "execution_count": 14,
   "metadata": {},
   "outputs": [],
   "source": [
    "###############################\n",
    "#######Linear Regression#######\n",
    "###############################\n",
    "import numpy as np\n",
    "from sklearn.linear_model import LinearRegression\n",
    "reg = LinearRegression().fit(X_train, y_train)\n",
    "predicted_LR = sc.inverse_transform(reg.predict(X_test))"
   ]
  },
  {
   "cell_type": "code",
   "execution_count": 19,
   "metadata": {
    "scrolled": false
   },
   "outputs": [
    {
     "name": "stdout",
     "output_type": "stream",
     "text": [
      "MSE : [996.4848795439642]\n"
     ]
    },
    {
     "data": {
      "image/png": "[encoded data removed]",
      "text/plain": [
       "<Figure size 432x288 with 1 Axes>"
      ]
     },
     "metadata": {
      "needs_background": "light"
     },
     "output_type": "display_data"
    }
   ],
   "source": [
    "import matplotlib.pyplot as plt\n",
    "from sklearn.metrics import mean_squared_error\n",
    "\n",
    "ori_y_test = sc.inverse_transform(y_test)\n",
    "\n",
    "print(\"MSE : [\"+str(mean_squared_error(predicted_SVR, ori_y_test))+\"]\")\n",
    "\n",
    "plt.plot(ori_y_test[:100], color = 'red', label = 'Real')  \n",
    "plt.plot(predicted_SVR[:100], color = 'blue', label = 'Predicted ') \n",
    "plt.legend()\n",
    "plt.show()"
   ]
  },
  {
   "cell_type": "code",
   "execution_count": 16,
   "metadata": {},
   "outputs": [
    {
     "data": {
      "text/plain": [
       "array([[0.18067227, 0.1512605 , 0.14285714, ..., 0.09663866, 0.07142857,\n",
       "        0.07142857],\n",
       "       [0.06302521, 0.08403361, 0.08823529, ..., 0.20168067, 0.20168067,\n",
       "        0.16386555],\n",
       "       [0.02941176, 0.03781513, 0.03361345, ..., 0.02941176, 0.01260504,\n",
       "        0.01260504],\n",
       "       ...,\n",
       "       [0.05042017, 0.01680672, 0.0210084 , ..., 0.06302521, 0.05882353,\n",
       "        0.07563025],\n",
       "       [0.05462185, 0.06722689, 0.05882353, ..., 0.07563025, 0.05882353,\n",
       "        0.05042017],\n",
       "       [0.10504202, 0.1302521 , 0.13865546, ..., 0.11764706, 0.11344538,\n",
       "        0.11764706]])"
      ]
     },
     "execution_count": 16,
     "metadata": {},
     "output_type": "execute_result"
    }
   ],
   "source": [
    "X_test"
   ]
  },
  {
   "cell_type": "code",
   "execution_count": null,
   "metadata": {},
   "outputs": [],
   "source": []
  },
  {
   "cell_type": "code",
   "execution_count": null,
   "metadata": {},
   "outputs": [],
   "source": []
  }
 ],
 "metadata": {
  "kernelspec": {
   "display_name": "Python 3",
   "language": "python",
   "name": "python3"
  },
  "language_info": {
   "codemirror_mode": {
    "name": "ipython",
    "version": 3
   },
   "file_extension": ".py",
   "mimetype": "text/x-python",
   "name": "python",
   "nbconvert_exporter": "python",
   "pygments_lexer": "ipython3",
   "version": "3.6.5"
  }
 },
 "nbformat": 4,
 "nbformat_minor": 2
}
