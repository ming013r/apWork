{
 "cells": [
  {
   "cell_type": "code",
   "execution_count": 10,
   "metadata": {},
   "outputs": [],
   "source": [
    "import numpy as np\n",
    "import math\n",
    "import matplotlib.pyplot as plt  \n",
    "from sklearn.metrics import mean_squared_error\n",
    "import pandas as pd\n",
    "import pickle\n",
    "from keras.layers import Dropout\n",
    "from keras.layers import Dense,Input\n",
    "from keras.models import Sequential,Model\n",
    "from keras.callbacks import EarlyStopping\n",
    "import numpy\n",
    "\n",
    "import sys\n",
    "import xlwt\n",
    "##get data##\n",
    "import MySQLdb\n",
    "from sklearn.preprocessing import MinMaxScaler\n",
    "\n",
    "\n",
    "def getStationList(cursor):\n",
    "    stationList = []\n",
    "    queryString = \"SELECT distinct station from cleandata\"\n",
    "    cursor.execute(queryString)\n",
    "    results = cursor.fetchall()\n",
    "    for row in results :\n",
    "        val = str(row).strip(\"',()\")\n",
    "        stationList.append(val)\n",
    "    stationList.remove('富貴角')##only 106少數資料\n",
    "    \n",
    "    with open('pickles/stationList.pickle', 'wb') as handle:\n",
    "        pickle.dump(stationList, handle, protocol=pickle.HIGHEST_PROTOCOL)\n",
    "                    \n",
    "    return stationList\n",
    "\n",
    "\n",
    "\n",
    "def fetchData(cursor,station,windosSize):\n",
    "    queryString = \"SELECT * from cleandata where station='\"+station+\"' and item = 'PM2.5' and date NOT like '2017%'\"\n",
    "    cursor.execute(queryString)\n",
    "    results = cursor.fetchall()\n",
    "\n",
    "    trainRawData = []\n",
    "    for row in results:\n",
    "        for i in range(3,27):\n",
    "            trainRawData.append(float(row[i]))\n",
    "    with open('pickles/'+station+'2017trainRaw.pickle', 'wb') as handle:\n",
    "        pickle.dump(trainRawData, handle, protocol=pickle.HIGHEST_PROTOCOL)\n",
    "    \n",
    "    \n",
    "    queryString = \"SELECT * from cleandata where station='\"+station+\"' and item = 'PM2.5' and date like '2017%'\"\n",
    "    cursor.execute(queryString)\n",
    "    results = cursor.fetchall()\n",
    "\n",
    "    testRawData = []\n",
    "    for row in results:\n",
    "        for i in range(3,27):\n",
    "            testRawData.append(float(row[i]))\n",
    "    with open('pickles/'+station+'2017testRaw.pickle', 'wb') as handle:\n",
    "        pickle.dump(testRawData, handle, protocol=pickle.HIGHEST_PROTOCOL)\n",
    "                    \n",
    "                    \n",
    "    sc, X_train, y_train, X_test, y_test = transfromData(trainRawData,testRawData,windosSize)\n",
    "    return sc, X_train, y_train, X_test, y_test\n"
   ]
  },
  {
   "cell_type": "code",
   "execution_count": 11,
   "metadata": {},
   "outputs": [
    {
     "name": "stdout",
     "output_type": "stream",
     "text": [
      "saving :二林\n"
     ]
    },
    {
     "ename": "NameError",
     "evalue": "name 'windowSize' is not defined",
     "output_type": "error",
     "traceback": [
      "\u001b[1;31m---------------------------------------------------------------------------\u001b[0m",
      "\u001b[1;31mNameError\u001b[0m                                 Traceback (most recent call last)",
      "\u001b[1;32m<ipython-input-11-adccc00f6342>\u001b[0m in \u001b[0;36m<module>\u001b[1;34m\u001b[0m\n\u001b[0;32m     10\u001b[0m \u001b[1;33m\u001b[0m\u001b[0m\n\u001b[0;32m     11\u001b[0m \u001b[1;33m\u001b[0m\u001b[0m\n\u001b[1;32m---> 12\u001b[1;33m     \u001b[0msc\u001b[0m\u001b[1;33m,\u001b[0m \u001b[0mX_train\u001b[0m\u001b[1;33m,\u001b[0m \u001b[0my_train\u001b[0m\u001b[1;33m,\u001b[0m \u001b[0mX_test\u001b[0m\u001b[1;33m,\u001b[0m \u001b[0my_test\u001b[0m \u001b[1;33m=\u001b[0m \u001b[0mfetchData\u001b[0m\u001b[1;33m(\u001b[0m\u001b[0mcursor\u001b[0m\u001b[1;33m,\u001b[0m\u001b[0mstation\u001b[0m\u001b[1;33m,\u001b[0m\u001b[0mwindowSize\u001b[0m\u001b[1;33m)\u001b[0m\u001b[1;33m\u001b[0m\u001b[0m\n\u001b[0m\u001b[0;32m     13\u001b[0m \u001b[1;33m\u001b[0m\u001b[0m\n\u001b[0;32m     14\u001b[0m \u001b[1;33m\u001b[0m\u001b[0m\n",
      "\u001b[1;31mNameError\u001b[0m: name 'windowSize' is not defined"
     ]
    }
   ],
   "source": [
    "import datetime\n",
    "db=MySQLdb.connect(host=\"localhost\",user=\"root\", passwd=\"swater0\", db=\"airdb\", charset=\"utf8\")\n",
    "cursor = db.cursor()\n",
    "\n",
    "stationList = getStationList(cursor)\n",
    "windowSize(7)\n",
    "for station in stationList:\n",
    "    print('saving :' + station)\n",
    "\n",
    "\n",
    "\n",
    "    sc, X_train, y_train, X_test, y_test = fetchData(cursor,station,windowSize)\n",
    "    \n",
    "\n",
    "db.close()\n"
   ]
  },
  {
   "cell_type": "code",
   "execution_count": 21,
   "metadata": {},
   "outputs": [
    {
     "data": {
      "text/plain": [
       "array([[0.05180421, 0.06033435, 0.06701006]], dtype=float32)"
      ]
     },
     "execution_count": 21,
     "metadata": {},
     "output_type": "execute_result"
    }
   ],
   "source": [
    "regressor.predict(X_test[:1])"
   ]
  },
  {
   "cell_type": "code",
   "execution_count": null,
   "metadata": {},
   "outputs": [],
   "source": []
  }
 ],
 "metadata": {
  "kernelspec": {
   "display_name": "Python 3",
   "language": "python",
   "name": "python3"
  },
  "language_info": {
   "codemirror_mode": {
    "name": "ipython",
    "version": 3
   },
   "file_extension": ".py",
   "mimetype": "text/x-python",
   "name": "python",
   "nbconvert_exporter": "python",
   "pygments_lexer": "ipython3",
   "version": "3.6.5"
  }
 },
 "nbformat": 4,
 "nbformat_minor": 2
}
