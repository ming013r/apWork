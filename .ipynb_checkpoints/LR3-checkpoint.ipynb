{
 "cells": [
  {
   "cell_type": "code",
   "execution_count": 1,
   "metadata": {},
   "outputs": [],
   "source": [
    "import numpy as np\n",
    "import math\n",
    "import matplotlib.pyplot as plt  \n",
    "from sklearn.metrics import mean_squared_error, mean_absolute_error\n",
    "import pandas as pd\n",
    "\n",
    "\n",
    "import sys\n",
    "import xlwt\n",
    "from sklearn.preprocessing import MinMaxScaler\n",
    "from sklearn.linear_model import LinearRegression\n",
    "import datetime,pickle,os,glob\n",
    "\n",
    "\n",
    "\n",
    "def transfromData(trainRaw, testRaw,windosSize):  ##Train ratial, train, test\n",
    "    sc = MinMaxScaler(feature_range = (0, 1))\n",
    "    #npRaw = np.array(rawData)\n",
    "    #scaledData = sc.fit_transform(npRaw.reshape(-1,1))  \n",
    "    #trainData = np.array(scaledData[:trainCount]).reshape(-1,1)##train \n",
    "    #testData = np.array(scaledData[-testCount:]).reshape(-1,1)\n",
    "    \n",
    "    npTrain = sc.fit_transform(np.array(trainRaw).reshape(-1,1))\n",
    "    npTest = sc.fit_transform(np.array(testRaw).reshape(-1,1))\n",
    "    \n",
    "\n",
    "    X_train, y_train = splitXy(npTrain,windosSize)\n",
    "    X_test, y_test = splitXy(npTest,windosSize)\n",
    "    return sc, X_train, y_train, X_test, y_test\n",
    "\n",
    "def splitXy(data,windosSize):\n",
    "    windows = []\n",
    "    for i in range(windosSize, data.shape[0]):\n",
    "        windows.append(data[i-windosSize:i, 0])\n",
    "    np.random.shuffle(windows)\n",
    "    X = []\n",
    "    y = []\n",
    "    for i in range(len(windows)):\n",
    "        X.append(windows[i][:6])\n",
    "        y.append(windows[i][-(windosSize-6):])\n",
    "    X, y = np.array(X), np.array(y)\n",
    "    #X = np.reshape(X, (X.shape[0], X.shape[1], 1))\n",
    "    return X,y\n",
    "\n",
    "\n",
    "\n",
    "\n",
    "def buildModel():\n",
    "    dnn_1_input = Input(shape=(6,),name='dnn_1_input')\n",
    "    dnn_1 = Dense(128,activation=\"tanh\", name='dnn_1')(dnn_1_input)\n",
    "    dnn_2 = Dense(64,activation=\"tanh\", name='dnn_2')(dnn_1)\n",
    "    dnn_3 = Dense(32,activation=\"tanh\", name='dnn_3')(dnn_2)\n",
    "    dnn_4 = Dense(1, activation='tanh', name='dnn_4')(dnn_3)\n",
    "\n",
    "    model = Model(dnn_1_input,dnn_4)\n",
    "    model.summary()\n",
    "    model.compile(loss='mse',\n",
    "                  optimizer='adam')\n",
    "    return model\n",
    "def getStationList():\n",
    "    with open('pickles/stationList.pickle', 'rb') as handle:\n",
    "        stationList = pickle.load(handle)\n",
    "    os.chdir('excelFiles/LSTM')\n",
    "    replaceDict = ['.xls','LSTMresult']\n",
    "    for direct in glob.glob(\"*.xls\"):\n",
    "        fileName = direct                                               \n",
    "        for w in replaceDict:\n",
    "            fileName = fileName.replace(w,'')\n",
    "        \n",
    "        if fileName in stationList:\n",
    "            stationList.remove(fileName)\n",
    "            print(fileName)\n",
    "    os.chdir('../..')\n",
    "    return stationList\n",
    "\n",
    "def writeExcelHead(sheet1,epochs,station):\n",
    "    sheet1.write(0,1,station)\n",
    "    raw = 1\n",
    "    for e in range(epochs):\n",
    "        sheet1.write(raw,0,e+1)\n",
    "        raw+=1\n",
    "def fetchData(station,windosSize):\n",
    "\n",
    "    with open('pickles/'+station+'2017trainRaw.pickle', 'rb') as handle:\n",
    "        trainRawData = pickle.load(handle)\n",
    "    with open('pickles/'+station+'2017testRaw.pickle', 'rb') as handle:\n",
    "        testRawData = pickle.load(handle)\n",
    "        \n",
    "    sc, X_train, y_train, X_test, y_test = transfromData(trainRawData,testRawData,windosSize)\n",
    "    return sc, X_train, y_train, X_test, y_test\n",
    "def trainLR(sc, X_train, y_train, X_test, y_test):\n",
    "    reg = LinearRegression().fit(X_train, y_train)\n",
    "    predicted_LR = sc.inverse_transform(reg.predict(X_test))\n",
    "    ori_y_test = sc.inverse_transform(y_test)\n",
    "    mse = mean_squared_error(predicted_LR, ori_y_test)\n",
    "    mae = mean_absolute_error(predicted_LR, ori_y_test)\n",
    "    print(mse)\n",
    "    return mse, mae"
   ]
  },
  {
   "cell_type": "code",
   "execution_count": 3,
   "metadata": {},
   "outputs": [
    {
     "name": "stdout",
     "output_type": "stream",
     "text": [
      "training : 二林\n",
      "24.678360903728397\n",
      "38.525635004149734\n",
      "53.60278095440403\n",
      "65.04802261015931\n",
      "74.67271637440552\n",
      "82.87533296638982\n",
      "89.86799687347961\n",
      "96.05761448877725\n",
      "101.57382337312552\n",
      "106.44696434055459\n"
     ]
    },
    {
     "ename": "FileNotFoundError",
     "evalue": "[Errno 2] No such file or directory: 'excelFiles/LR/LRresult二林.xls'",
     "output_type": "error",
     "traceback": [
      "\u001b[1;31m---------------------------------------------------------------------------\u001b[0m",
      "\u001b[1;31mFileNotFoundError\u001b[0m                         Traceback (most recent call last)",
      "\u001b[1;32m<ipython-input-3-e6294a99bc63>\u001b[0m in \u001b[0;36m<module>\u001b[1;34m\u001b[0m\n\u001b[0;32m     17\u001b[0m         \u001b[0msheet1\u001b[0m\u001b[1;33m.\u001b[0m\u001b[0mwrite\u001b[0m\u001b[1;33m(\u001b[0m\u001b[0mrow\u001b[0m\u001b[1;33m,\u001b[0m\u001b[1;36m1\u001b[0m\u001b[1;33m,\u001b[0m\u001b[0mmse\u001b[0m\u001b[1;33m)\u001b[0m\u001b[1;33m\u001b[0m\u001b[0m\n\u001b[0;32m     18\u001b[0m         \u001b[0mrow\u001b[0m\u001b[1;33m+=\u001b[0m\u001b[1;36m1\u001b[0m\u001b[1;33m\u001b[0m\u001b[0m\n\u001b[1;32m---> 19\u001b[1;33m     \u001b[0mbook\u001b[0m\u001b[1;33m.\u001b[0m\u001b[0msave\u001b[0m\u001b[1;33m(\u001b[0m\u001b[1;34m\"excelFiles/LR/LRresult\"\u001b[0m\u001b[1;33m+\u001b[0m\u001b[0mstation\u001b[0m\u001b[1;33m+\u001b[0m\u001b[1;34m\".xls\"\u001b[0m\u001b[1;33m)\u001b[0m\u001b[1;33m\u001b[0m\u001b[0m\n\u001b[0m",
      "\u001b[1;32mc:\\users\\ming\\appdata\\local\\programs\\python\\python36\\lib\\site-packages\\xlwt\\Workbook.py\u001b[0m in \u001b[0;36msave\u001b[1;34m(self, filename_or_stream)\u001b[0m\n\u001b[0;32m    708\u001b[0m \u001b[1;33m\u001b[0m\u001b[0m\n\u001b[0;32m    709\u001b[0m         \u001b[0mdoc\u001b[0m \u001b[1;33m=\u001b[0m \u001b[0mCompoundDoc\u001b[0m\u001b[1;33m.\u001b[0m\u001b[0mXlsDoc\u001b[0m\u001b[1;33m(\u001b[0m\u001b[1;33m)\u001b[0m\u001b[1;33m\u001b[0m\u001b[0m\n\u001b[1;32m--> 710\u001b[1;33m         \u001b[0mdoc\u001b[0m\u001b[1;33m.\u001b[0m\u001b[0msave\u001b[0m\u001b[1;33m(\u001b[0m\u001b[0mfilename_or_stream\u001b[0m\u001b[1;33m,\u001b[0m \u001b[0mself\u001b[0m\u001b[1;33m.\u001b[0m\u001b[0mget_biff_data\u001b[0m\u001b[1;33m(\u001b[0m\u001b[1;33m)\u001b[0m\u001b[1;33m)\u001b[0m\u001b[1;33m\u001b[0m\u001b[0m\n\u001b[0m\u001b[0;32m    711\u001b[0m \u001b[1;33m\u001b[0m\u001b[0m\n\u001b[0;32m    712\u001b[0m \u001b[1;33m\u001b[0m\u001b[0m\n",
      "\u001b[1;32mc:\\users\\ming\\appdata\\local\\programs\\python\\python36\\lib\\site-packages\\xlwt\\CompoundDoc.py\u001b[0m in \u001b[0;36msave\u001b[1;34m(self, file_name_or_filelike_obj, stream)\u001b[0m\n\u001b[0;32m    260\u001b[0m         \u001b[0mwe_own_it\u001b[0m \u001b[1;33m=\u001b[0m \u001b[1;32mnot\u001b[0m \u001b[0mhasattr\u001b[0m\u001b[1;33m(\u001b[0m\u001b[0mf\u001b[0m\u001b[1;33m,\u001b[0m \u001b[1;34m'write'\u001b[0m\u001b[1;33m)\u001b[0m\u001b[1;33m\u001b[0m\u001b[0m\n\u001b[0;32m    261\u001b[0m         \u001b[1;32mif\u001b[0m \u001b[0mwe_own_it\u001b[0m\u001b[1;33m:\u001b[0m\u001b[1;33m\u001b[0m\u001b[0m\n\u001b[1;32m--> 262\u001b[1;33m             \u001b[0mf\u001b[0m \u001b[1;33m=\u001b[0m \u001b[0mopen\u001b[0m\u001b[1;33m(\u001b[0m\u001b[0mfile_name_or_filelike_obj\u001b[0m\u001b[1;33m,\u001b[0m \u001b[1;34m'w+b'\u001b[0m\u001b[1;33m)\u001b[0m\u001b[1;33m\u001b[0m\u001b[0m\n\u001b[0m\u001b[0;32m    263\u001b[0m         \u001b[0mf\u001b[0m\u001b[1;33m.\u001b[0m\u001b[0mwrite\u001b[0m\u001b[1;33m(\u001b[0m\u001b[0mself\u001b[0m\u001b[1;33m.\u001b[0m\u001b[0mheader\u001b[0m\u001b[1;33m)\u001b[0m\u001b[1;33m\u001b[0m\u001b[0m\n\u001b[0;32m    264\u001b[0m         \u001b[0mf\u001b[0m\u001b[1;33m.\u001b[0m\u001b[0mwrite\u001b[0m\u001b[1;33m(\u001b[0m\u001b[0mself\u001b[0m\u001b[1;33m.\u001b[0m\u001b[0mpacked_MSAT_1st\u001b[0m\u001b[1;33m)\u001b[0m\u001b[1;33m\u001b[0m\u001b[0m\n",
      "\u001b[1;31mFileNotFoundError\u001b[0m: [Errno 2] No such file or directory: 'excelFiles/LR/LRresult二林.xls'"
     ]
    }
   ],
   "source": [
    "\n",
    "\n",
    "stationList = getStationList()\n",
    "col=1\n",
    "for station in stationList:\n",
    "    print(\"training : \" +station)\n",
    "    mseList = []\n",
    "    maeList = []\n",
    "    for windowSize in range(7,31):\n",
    "        sc, X_train, y_train, X_test, y_test = fetchData(station,windowSize)\n",
    "        mse, mae = trainLR(sc, X_train, y_train, X_test, y_test)\n",
    "        mseList.append(mse)\n",
    "        maeList.append(mae)\n",
    "    book = xlwt.Workbook(encoding=\"utf-8\")\n",
    "    sheet1 = book.add_sheet(\"Sheet1\")\n",
    "    writeExcelHead(sheet1,10,station)\n",
    "    row = 1\n",
    "    for mse in mseList:\n",
    "        sheet1.write(row,1,mse)\n",
    "        row+=1\n",
    "        row = 1\n",
    "    for mae in maeList:\n",
    "        sheet1.write(row,2,mse)\n",
    "        row+=1\n",
    "    book.save(\"excelFiles/LR/LRresult\"+station+\".xls\")\n"
   ]
  },
  {
   "cell_type": "code",
   "execution_count": 12,
   "metadata": {},
   "outputs": [
    {
     "data": {
      "text/plain": [
       "[4, 5, 6, 7, 8, 9]"
      ]
     },
     "execution_count": 12,
     "metadata": {},
     "output_type": "execute_result"
    }
   ],
   "source": [
    "k = [1,2,3,4,5,6,7,8,9]\n",
    "k[-6:]"
   ]
  },
  {
   "cell_type": "code",
   "execution_count": 10,
   "metadata": {},
   "outputs": [
    {
     "data": {
      "text/plain": [
       "[3, 4, 5]"
      ]
     },
     "execution_count": 10,
     "metadata": {},
     "output_type": "execute_result"
    }
   ],
   "source": [
    "k = [1,2,3,4,5]\n",
    "k[2:]\n",
    "\n"
   ]
  },
  {
   "cell_type": "code",
   "execution_count": null,
   "metadata": {},
   "outputs": [],
   "source": [
    "        X.append(windows[i][:6])\n",
    "        y.append(windows[i][-(windosSize-6):])"
   ]
  }
 ],
 "metadata": {
  "kernelspec": {
   "display_name": "Python 3",
   "language": "python",
   "name": "python3"
  },
  "language_info": {
   "codemirror_mode": {
    "name": "ipython",
    "version": 3
   },
   "file_extension": ".py",
   "mimetype": "text/x-python",
   "name": "python",
   "nbconvert_exporter": "python",
   "pygments_lexer": "ipython3",
   "version": "3.6.5"
  }
 },
 "nbformat": 4,
 "nbformat_minor": 2
}
